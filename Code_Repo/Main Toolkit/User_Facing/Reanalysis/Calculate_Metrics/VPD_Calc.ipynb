{
 "cells": [
  {
   "cell_type": "markdown",
   "id": "9a8662b6-1653-4667-b8c3-6a34ec89d44e",
   "metadata": {},
   "source": [
    "<a name=\"top\"></a>\n",
    "<div style=\"width:1000 px\">\n",
    "\n",
    "<div style=\"float:right; width:98 px; height:98px;\">\n",
    "<img src=\"https://cdn.miami.edu/_assets-common/images/system/um-logo-gray-bg.png\" alt=\"Miami Logo\" style=\"height: 98px;\">\n",
    "</div>\n",
    "\n",
    "<div style=\"float:right; width:98 px; height:98px;\">\n",
    "<img src=\"https://media.licdn.com/dms/image/C4E0BAQFlOZSAJABP4w/company-logo_200_200/0/1548285168598?e=2147483647&v=beta&t=g4jl8rEhB7HLJuNZhU6OkJWHW4cul_y9Kj_aoD7p0_Y\" alt=\"STI Logo\" style=\"height: 98px;\">\n",
    "</div>\n",
    "\n",
    "\n",
    "<h1>Calculate the Vapor Pressure Deficit for Each Model and Timestep</h1>\n",
    "By: Kayla Besong, PhD\n",
    "    <br>\n",
    "Last Edited: 11/22/23\n",
    "<br>\n",
    "<br>    \n",
    "<br>\n",
    "Takes models/variables downloaded and calculates the vapor pressure defict. The vapor pressure deficit calculation is in File_concat_mod_functions.ipynb, as is the function that computes the 24HR AVG, MIN, MAX outputs. \n",
    "<br>\n",
    "<br>\n",
    "RH is also calculated and saved for models that only had dewpoint. \n",
    "<div style=\"clear:both\"></div>\n",
    "</div>\n",
    "\n",
    "<hr style=\"height:2px;\">"
   ]
  },
  {
   "cell_type": "markdown",
   "id": "262c1627-38f4-4e1e-aab9-4cb234af55fd",
   "metadata": {
    "tags": []
   },
   "source": [
    "## Import needed libraries, etc."
   ]
  },
  {
   "cell_type": "code",
   "execution_count": 1,
   "id": "c35dd037-c86b-4d25-a07e-c3a3bc023d77",
   "metadata": {
    "collapsed": false,
    "jupyter": {
     "outputs_hidden": false
    }
   },
   "outputs": [],
   "source": [
    "import matplotlib.pyplot as plt\n",
    "import numpy as np\n",
    "import xarray as xr\n",
    "import pandas as pd\n",
    "from dask.distributed import Client, LocalCluster\n",
    "import dask.array as da\n",
    "import os\n",
    "import glob\n",
    "from metpy.calc import relative_humidity_from_dewpoint, saturation_vapor_pressure\n",
    "from metpy.units import units\n",
    "import math"
   ]
  },
  {
   "cell_type": "code",
   "execution_count": 2,
   "id": "307a18bb-3d23-4aef-b1fd-5c1f9accb5fc",
   "metadata": {},
   "outputs": [],
   "source": [
    "import warnings\n",
    "warnings.filterwarnings('ignore')\n",
    "warnings.simplefilter('ignore')\n",
    "pd.options.mode.chained_assignment = None"
   ]
  },
  {
   "cell_type": "markdown",
   "id": "a25b1270-e278-4ec7-a92b-8b6d7870178e",
   "metadata": {
    "tags": []
   },
   "source": [
    "## OPTIONAL: Establish a dask client. This is a lot of data."
   ]
  },
  {
   "cell_type": "code",
   "execution_count": null,
   "id": "9c441ade-063a-4be5-82db-750c0da14994",
   "metadata": {
    "tags": []
   },
   "outputs": [],
   "source": [
    "Cluster = LocalCluster(n_workers = 8, threads_per_worker=4, memory_limit='30GB',  processes=True)\n",
    "#Cluster = LocalCluster()"
   ]
  },
  {
   "cell_type": "code",
   "execution_count": null,
   "id": "1e846fea-4aad-43a7-b629-33ac91c0f966",
   "metadata": {},
   "outputs": [],
   "source": [
    "client = Client(Cluster)\n",
    "client"
   ]
  },
  {
   "cell_type": "markdown",
   "id": "df786ff4-2b0a-46c8-9308-78f62c372f90",
   "metadata": {},
   "source": [
    "### The integral notebook of functions to run"
   ]
  },
  {
   "cell_type": "code",
   "execution_count": 3,
   "id": "90eb2dbb-ee27-440e-ad4a-703f1d7e8593",
   "metadata": {},
   "outputs": [],
   "source": [
    "%run File_concat_mod_functions.ipynb"
   ]
  },
  {
   "cell_type": "markdown",
   "id": "74e51dc8-c398-4de4-bd6d-fe1bf129996e",
   "metadata": {},
   "source": [
    "the main function to run is:\n",
    "\n",
    "    return_concat(model, variable, prototype = None)\n",
    "\n",
    "Where the prototype is only needed for the UFS_S2S model choice. "
   ]
  },
  {
   "cell_type": "markdown",
   "id": "fd375697-4ea6-4cf3-9f8d-f4df2120171f",
   "metadata": {},
   "source": [
    "# These are the available options the functions are designed for\n",
    "\n",
    "Not all variables will be available from all models but most are. "
   ]
  },
  {
   "cell_type": "code",
   "execution_count": null,
   "id": "65cc223d-d4a6-4745-9977-cf1f5fca2843",
   "metadata": {},
   "outputs": [],
   "source": [
    "model_options = ['CONUS404', 'ERA5', 'HRRR', 'NAM', 'NARR', 'NCEP', 'UFS_S2S']\n",
    "variable_options = ['PBL', 'CAPE', 'SOILM', 'WIND', 'PRECIP', 'TEMP', 'RH']"
   ]
  },
  {
   "cell_type": "code",
   "execution_count": null,
   "id": "08c7fe73-1582-4d10-ba17-aa80c7f6c65e",
   "metadata": {},
   "outputs": [],
   "source": [
    "output_dir = 'database_files'"
   ]
  },
  {
   "cell_type": "markdown",
   "id": "b6fbef68-2692-4f59-9710-acb242b7af31",
   "metadata": {
    "tags": []
   },
   "source": [
    "## CONUS404"
   ]
  },
  {
   "cell_type": "code",
   "execution_count": null,
   "id": "ced1cd86-20ec-493c-8d4b-e56819a2e50e",
   "metadata": {},
   "outputs": [],
   "source": [
    "%%time\n",
    "\n",
    "conus404_d2m = return_concat('CONUS404', 'RH'))\n",
    "conus404_t2m = return_concat('CONUS404', 'TEMP'))"
   ]
  },
  {
   "cell_type": "code",
   "execution_count": null,
   "id": "48634b75-f345-48e8-8d5f-d8e3a5ede3d9",
   "metadata": {},
   "outputs": [],
   "source": [
    "conus404_d2m = conus404_d2m.TD2 - 273.15\n",
    "conus404_t2m = conus404_t2m.T2 - 273.15"
   ]
  },
  {
   "cell_type": "code",
   "execution_count": null,
   "id": "511e7973-000a-4f81-8d52-1ee5e6cdc30f",
   "metadata": {},
   "outputs": [],
   "source": [
    "conus404_rh = relative_humidity_from_dewpoint(conus404_t2m*units.degC, conus404_d2m*units.degC).metpy.dequantify()\n",
    "conus404_rh = conus404_rh.to_dataset(name = 'rh')\n",
    "conus404_rh"
   ]
  },
  {
   "cell_type": "code",
   "execution_count": null,
   "id": "9d6d830d-6deb-488e-8882-efa847b3f3f7",
   "metadata": {},
   "outputs": [],
   "source": [
    "conus404_vpd = vapor_pressure_deficit(conus404_t2m, conus404_rh['rh'])"
   ]
  },
  {
   "cell_type": "markdown",
   "id": "92a9a16c-2ad1-4066-b6ac-6d85f0ef661e",
   "metadata": {},
   "source": [
    "Get min, max, absolute for the new variable"
   ]
  },
  {
   "cell_type": "code",
   "execution_count": null,
   "id": "e7a8cd8a-3874-44bc-a0ac-9d1dd725070a",
   "metadata": {},
   "outputs": [],
   "source": [
    "%%time\n",
    "resampler_regular_vars('vpd', conus404_vpd, output_dir, 'CONUS404')"
   ]
  },
  {
   "cell_type": "code",
   "execution_count": null,
   "id": "b3f29698-2a97-439c-8639-6935a2922d5e",
   "metadata": {},
   "outputs": [],
   "source": [
    "resampler_regular_vars('rh', conus404_rh, output_dir, 'CONUS404')"
   ]
  },
  {
   "cell_type": "markdown",
   "id": "13e7a03c-66e8-4014-8b89-aa51df63eee0",
   "metadata": {},
   "source": [
    "## ERA5\n",
    "expected timesteps = 1460"
   ]
  },
  {
   "cell_type": "code",
   "execution_count": null,
   "id": "061b779a-a9e1-4f7b-a0ea-b7b4c094b984",
   "metadata": {
    "tags": []
   },
   "outputs": [],
   "source": [
    "%%time\n",
    "\n",
    "era_d2m = return_concat('ERA5', 'RH'))\n",
    "era_t2m = return_concat('ERA5', 'TEMP'))\n",
    "\n",
    "era_d2m = era_d2m.d2m - 273.15\n",
    "era_t2m = era_t2m.t2m - 273.15"
   ]
  },
  {
   "cell_type": "code",
   "execution_count": null,
   "id": "562d0969-8df6-41fe-88b6-10cbbf4b4e5d",
   "metadata": {},
   "outputs": [],
   "source": [
    "era_rh = relative_humidity_from_dewpoint(era_t2m*units.degC, era_d2m*units.degC).metpy.dequantify()\n",
    "era_rh = era_rh.to_dataset(name = 'rh')\n",
    "era_rh"
   ]
  },
  {
   "cell_type": "code",
   "execution_count": null,
   "id": "56dc43e0-9269-4b4f-8af7-b2c0d99620cb",
   "metadata": {
    "scrolled": true
   },
   "outputs": [],
   "source": [
    "era_rh = era_rh.to_dataset(name = 'rh')\n",
    "era_rh"
   ]
  },
  {
   "cell_type": "code",
   "execution_count": null,
   "id": "f5f968a3-5d1f-406a-b77d-4ec66e42bf59",
   "metadata": {},
   "outputs": [],
   "source": [
    "vpd_era = vapor_pressure_deficit(era_t2m, era_rh)"
   ]
  },
  {
   "cell_type": "markdown",
   "id": "e5523cf8-5c83-4b69-ae21-93dc134c5986",
   "metadata": {},
   "source": [
    "Get min, max, absolute for the new variable"
   ]
  },
  {
   "cell_type": "code",
   "execution_count": null,
   "id": "db09fc88-7f9e-43dc-90fd-6278d8ae0509",
   "metadata": {},
   "outputs": [],
   "source": [
    "%%time\n",
    "resampler_regular_vars('vpd', vpd_era, output_dir, 'ERA5')"
   ]
  },
  {
   "cell_type": "code",
   "execution_count": null,
   "id": "1bff818b-dc6b-4da9-ab12-d8b973d656f7",
   "metadata": {},
   "outputs": [],
   "source": [
    "resampler_regular_vars('rh', era_rh, output_dir, 'ERA5')"
   ]
  },
  {
   "cell_type": "markdown",
   "id": "4cc29df7-d0f2-4ed7-9e7a-1e52afae305f",
   "metadata": {},
   "source": [
    "## HRRR\n",
    "expected timesteps = 1460"
   ]
  },
  {
   "cell_type": "code",
   "execution_count": null,
   "id": "f472c74f-daa5-46a8-81de-760c42175dcc",
   "metadata": {},
   "outputs": [],
   "source": [
    "model = 'HRRR'"
   ]
  },
  {
   "cell_type": "code",
   "execution_count": null,
   "id": "f0270cc0-44aa-4d13-86a5-a2ebd19b3dac",
   "metadata": {},
   "outputs": [],
   "source": [
    "model_list = []\n",
    "parent_dir = f'{output_dir}/{model}'"
   ]
  },
  {
   "cell_type": "code",
   "execution_count": null,
   "id": "5bf82ab0-04cc-41a9-b145-7ebd86878092",
   "metadata": {},
   "outputs": [],
   "source": [
    "vpd_variable_options = ['TEMP', 'RH']\n",
    "model_vars = []"
   ]
  },
  {
   "cell_type": "code",
   "execution_count": null,
   "id": "52c152d1-1b78-4287-850c-20b0e167c8dd",
   "metadata": {},
   "outputs": [],
   "source": [
    "for v in vpd_variable_options:\n",
    "    v = get_model_var_database(model, v)\n",
    "    model_vars.append(v)\n",
    "    model_list.append(sorted(glob.glob(os.path.join(parent_dir, f'{v}_{get_filename(model)}_Abs_*.nc'))))\n"
   ]
  },
  {
   "cell_type": "code",
   "execution_count": null,
   "id": "ab7c4d27-1b25-4d2c-80f0-5e2a61058243",
   "metadata": {},
   "outputs": [],
   "source": [
    "model_vars"
   ]
  },
  {
   "cell_type": "code",
   "execution_count": null,
   "id": "75dd6723-2284-47f6-a858-4886534d03aa",
   "metadata": {},
   "outputs": [],
   "source": [
    "if len(np.unique([len(i) for i in model_list])) >1:\n",
    "    print('the number of years for each variable are not the same')"
   ]
  },
  {
   "cell_type": "code",
   "execution_count": null,
   "id": "694b02d9-1d0d-444a-aa11-8c31066196cb",
   "metadata": {},
   "outputs": [],
   "source": [
    "model_list"
   ]
  },
  {
   "cell_type": "code",
   "execution_count": null,
   "id": "b22250c7-988c-4ff3-b547-72c5207c81ee",
   "metadata": {},
   "outputs": [],
   "source": [
    "%%time\n",
    "\n",
    "for temp,rh in zip(model_list[0], model_list[1]):\n",
    "    if int(temp[-7:-3]) != int(rh[-7:-3]):\n",
    "        print('the years for each variable are not aligned, rh')\n",
    "    else:\n",
    "        print(temp, rh)\n",
    "\n",
    "        tempt = xr.open_dataset(temp)-273.15\n",
    "        d2m = xr.open_dataset(rh)-273.15\n",
    "        \n",
    "        print('starting RH')\n",
    "        hrrr_rh = relative_humidity_from_dewpoint(tempt.t2m*units.degC, d2m.d2m*units.degC).metpy.dequantify()\n",
    "        hrrr_rh = hrrr_rh.to_dataset(name = 'rh')\n",
    "        \n",
    "        print('starting vpd')\n",
    "        hrrr_vpd = vapor_pressure_deficit(tempt.t2m, hrrr_rh.rh)\n",
    "\n",
    "        print('starting resample')        \n",
    "        resampler_regular_vars('vpd', hrrr_vpd.chunk(get_chunk_database('HRRR')), output_dir, 'HRRR')"
   ]
  },
  {
   "cell_type": "code",
   "execution_count": null,
   "id": "3aaff271-0d21-44e7-971a-081cdeeef114",
   "metadata": {},
   "outputs": [],
   "source": []
  },
  {
   "cell_type": "markdown",
   "id": "add15c37-e917-417e-a5ca-e8dd871f24ec",
   "metadata": {},
   "source": [
    "## NAM\n",
    "expected timesteps = 1460"
   ]
  },
  {
   "cell_type": "code",
   "execution_count": null,
   "id": "ba1079fb-c123-4283-9b46-59722854e447",
   "metadata": {},
   "outputs": [],
   "source": [
    "model = 'NAM'"
   ]
  },
  {
   "cell_type": "code",
   "execution_count": null,
   "id": "61e32f60-1204-4bfe-a0f6-9b73410c69d0",
   "metadata": {},
   "outputs": [],
   "source": [
    "model_list = []\n",
    "parent_dir = f'{output_dir}/{model}'"
   ]
  },
  {
   "cell_type": "code",
   "execution_count": null,
   "id": "f3cdde92-fd51-4fdc-bd82-62609845225a",
   "metadata": {},
   "outputs": [],
   "source": [
    "vpd_variable_options = ['TEMP', 'RH']\n",
    "model_vars = []"
   ]
  },
  {
   "cell_type": "code",
   "execution_count": null,
   "id": "a7b49681-9b59-4367-970c-09953128d433",
   "metadata": {},
   "outputs": [],
   "source": [
    "for v in vpd_variable_options:\n",
    "    v = get_model_var_database(model, v)\n",
    "    model_vars.append(v)\n",
    "    model_list.append(sorted(glob.glob(os.path.join(parent_dir, f'{v}_{get_filename(model)}_Abs_*.nc'))))\n"
   ]
  },
  {
   "cell_type": "code",
   "execution_count": null,
   "id": "412a8b79-69da-473a-9504-a8d07a105d72",
   "metadata": {},
   "outputs": [],
   "source": [
    "model_vars"
   ]
  },
  {
   "cell_type": "code",
   "execution_count": null,
   "id": "b13e7d9e-ca33-47b5-b4bd-bba2c2eba500",
   "metadata": {},
   "outputs": [],
   "source": [
    "if len(np.unique([len(i) for i in model_list])) >1:\n",
    "    print('the number of years for each variable are not the same')"
   ]
  },
  {
   "cell_type": "code",
   "execution_count": null,
   "id": "df6c3c15-41ab-4ccc-a15c-7d5ede85afd1",
   "metadata": {},
   "outputs": [],
   "source": [
    "%%time\n",
    "\n",
    "for temp,rh in zip(model_list[0], model_list[1]):\n",
    "    if int(temp[-7:-3]) != int(rh[-7:-3]):\n",
    "        print('the years for each variable are not aligned, rh')\n",
    "    else:\n",
    "        print(temp, rh)\n",
    "\n",
    "        tempt = xr.open_dataset(temp)-273.15\n",
    "        rht = xr.open_dataset(rh)/100.\n",
    "\n",
    "        rh_times = rht.time.values\n",
    "        matching_indices_1 = [i for i, t in enumerate(tempt.time.values) if t in rh_times]\n",
    "\n",
    "        tempt = tempt.isel(time=matching_indices_1)\n",
    "        \n",
    "        print('starting vpd')\n",
    "        nam_vpd = vapor_pressure_deficit(tempt.t2m, rht.r)\n",
    "\n",
    "        print('starting resample')\n",
    "        \n",
    "        resampler_regular_vars('vpd', nam_vpd, output_dir, 'NAM')"
   ]
  },
  {
   "cell_type": "code",
   "execution_count": null,
   "id": "006d7094-52b7-40dc-bc92-b38624137c99",
   "metadata": {},
   "outputs": [],
   "source": []
  },
  {
   "cell_type": "markdown",
   "id": "0134ba81-758d-41e9-ad94-14f7e347cf4e",
   "metadata": {},
   "source": [
    "## NARR\n",
    "expected timesteps = 1460"
   ]
  },
  {
   "cell_type": "code",
   "execution_count": null,
   "id": "694b8d6d-03d3-45a3-abac-f0d49096d71b",
   "metadata": {},
   "outputs": [],
   "source": [
    "%%time\n",
    "\n",
    "narr_d2m = return_concat('NARR', 'RH'))\n",
    "narr_t2m = return_concat('NARR', 'TEMP'))"
   ]
  },
  {
   "cell_type": "code",
   "execution_count": null,
   "id": "5e867b4d-1f9a-49aa-bbb7-000f43657955",
   "metadata": {},
   "outputs": [],
   "source": [
    "narr_rh = narr_d2m.Relative_humidity_height_above_ground.isel(height_above_ground1 = 0)/100.\n",
    "narr_t2m = narr_t2m.Temperature_height_above_ground.sel(height_above_ground = 2.0) - 273.15"
   ]
  },
  {
   "cell_type": "code",
   "execution_count": null,
   "id": "a00af8e3-2994-4f34-9dad-3fd82f4ddea4",
   "metadata": {},
   "outputs": [],
   "source": [
    "narr_vpd = vapor_pressure_deficit(narr_t2m, narr_rh)"
   ]
  },
  {
   "cell_type": "markdown",
   "id": "a4c62c7b-6d93-4276-a325-a0b3ef4f6782",
   "metadata": {},
   "source": [
    "Get min, max, absolute for the new variable"
   ]
  },
  {
   "cell_type": "code",
   "execution_count": null,
   "id": "692c7ae3-8e62-4a10-83ac-ab11097e274e",
   "metadata": {},
   "outputs": [],
   "source": [
    "%%time\n",
    "resampler_regular_vars('vpd', narr_vpd, output_dir, 'NARR')"
   ]
  },
  {
   "cell_type": "markdown",
   "id": "1ea2aa9c-5c8a-428a-b565-ae72293b2a86",
   "metadata": {
    "tags": []
   },
   "source": [
    "## NCEP\n",
    "expected timesteps = 1460"
   ]
  },
  {
   "cell_type": "code",
   "execution_count": null,
   "id": "57542044-3b95-4952-ae80-ba05d014e7b7",
   "metadata": {},
   "outputs": [],
   "source": [
    "%%time\n",
    "\n",
    "ncep_d2m = return_concat('NCEP', 'RH')\n",
    "ncep_t2m = return_concat('NCEP', 'TEMP')"
   ]
  },
  {
   "cell_type": "code",
   "execution_count": null,
   "id": "bdb59336-3fbb-4ff7-a7f6-25f96737d3c6",
   "metadata": {},
   "outputs": [],
   "source": [
    "ncep_rh = ncep_d2m.rhum/100.\n",
    "ncep_t2m = ncep_t2m.air - 273.15"
   ]
  },
  {
   "cell_type": "code",
   "execution_count": null,
   "id": "20349b61-698e-4ece-81b1-51f78627e3c6",
   "metadata": {},
   "outputs": [],
   "source": [
    "ncep_vpd = vapor_pressure_deficit(ncep_t2m, ncep_rh)"
   ]
  },
  {
   "cell_type": "markdown",
   "id": "a838aef7-758b-40b4-8e71-53aafa24ad15",
   "metadata": {},
   "source": [
    "Get min, max, absolute for the new variable"
   ]
  },
  {
   "cell_type": "code",
   "execution_count": null,
   "id": "4c2fa968-65bd-49db-a48c-39f63a3b3cf3",
   "metadata": {},
   "outputs": [],
   "source": [
    "%%time\n",
    "resampler_regular_vars('vpd', ncep_vpd, output_dir, 'NCEP')"
   ]
  },
  {
   "cell_type": "code",
   "execution_count": null,
   "id": "63046c8b-6610-4a03-aad1-62dac2fe18f6",
   "metadata": {},
   "outputs": [],
   "source": []
  }
 ],
 "metadata": {
  "kernelspec": {
   "display_name": "Python 3 (ipykernel)",
   "language": "python",
   "name": "python3"
  },
  "language_info": {
   "codemirror_mode": {
    "name": "ipython",
    "version": 3
   },
   "file_extension": ".py",
   "mimetype": "text/x-python",
   "name": "python",
   "nbconvert_exporter": "python",
   "pygments_lexer": "ipython3",
   "version": "3.12.0"
  }
 },
 "nbformat": 4,
 "nbformat_minor": 5
}
