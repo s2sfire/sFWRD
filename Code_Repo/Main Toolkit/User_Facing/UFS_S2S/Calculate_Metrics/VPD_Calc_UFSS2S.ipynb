{
 "cells": [
  {
   "cell_type": "markdown",
   "id": "9a8662b6-1653-4667-b8c3-6a34ec89d44e",
   "metadata": {},
   "source": [
    "<a name=\"top\"></a>\n",
    "<div style=\"width:1000 px\">\n",
    "\n",
    "<div style=\"float:right; width:98 px; height:98px;\">\n",
    "<img src=\"https://cdn.miami.edu/_assets-common/images/system/um-logo-gray-bg.png\" alt=\"Miami Logo\" style=\"height: 98px;\">\n",
    "</div>\n",
    "\n",
    "<div style=\"float:right; width:98 px; height:98px;\">\n",
    "<img src=\"https://media.licdn.com/dms/image/C4E0BAQFlOZSAJABP4w/company-logo_200_200/0/1548285168598?e=2147483647&v=beta&t=g4jl8rEhB7HLJuNZhU6OkJWHW4cul_y9Kj_aoD7p0_Y\" alt=\"STI Logo\" style=\"height: 98px;\">\n",
    "</div>\n",
    "\n",
    "\n",
    "<h1>Calculate the Vapor Pressure Deficit for the UFS S2S </h1>\n",
    "By: Kayla Besong, PhD\n",
    "    <br>\n",
    "Last Edited: 11/22/23\n",
    "<br>\n",
    "<br>    \n",
    "<br>\n",
    "Takes models/variables downloaded and calculates the vapor pressure defict. The vapor pressure deficit calculation is in File_concat_mod_functions.ipynb, as is the function that computes the 24HR AVG, MIN, MAX outputs. \n",
    "<div style=\"clear:both\"></div>\n",
    "</div>\n",
    "\n",
    "<hr style=\"height:2px;\">"
   ]
  },
  {
   "cell_type": "markdown",
   "id": "262c1627-38f4-4e1e-aab9-4cb234af55fd",
   "metadata": {
    "tags": []
   },
   "source": [
    "## Import needed libraries, etc."
   ]
  },
  {
   "cell_type": "code",
   "execution_count": 1,
   "id": "c35dd037-c86b-4d25-a07e-c3a3bc023d77",
   "metadata": {
    "collapsed": false,
    "jupyter": {
     "outputs_hidden": false
    }
   },
   "outputs": [],
   "source": [
    "import matplotlib.pyplot as plt\n",
    "import numpy as np\n",
    "import xarray as xr\n",
    "import pandas as pd\n",
    "from dask.distributed import Client, LocalCluster\n",
    "import dask.array as da\n",
    "import os\n",
    "import glob\n",
    "from metpy.units import units\n",
    "import math"
   ]
  },
  {
   "cell_type": "code",
   "execution_count": 2,
   "id": "307a18bb-3d23-4aef-b1fd-5c1f9accb5fc",
   "metadata": {},
   "outputs": [],
   "source": [
    "import warnings\n",
    "warnings.filterwarnings('ignore')\n",
    "warnings.simplefilter('ignore')\n",
    "pd.options.mode.chained_assignment = None"
   ]
  },
  {
   "cell_type": "markdown",
   "id": "a25b1270-e278-4ec7-a92b-8b6d7870178e",
   "metadata": {
    "tags": []
   },
   "source": [
    "## OPTIONAL: Establish a dask client. This is a lot of data."
   ]
  },
  {
   "cell_type": "code",
   "execution_count": null,
   "id": "9c441ade-063a-4be5-82db-750c0da14994",
   "metadata": {
    "tags": []
   },
   "outputs": [],
   "source": [
    "Cluster = LocalCluster(n_workers = 8, threads_per_worker=4, memory_limit='30GB',  processes=True)\n",
    "#Cluster = LocalCluster()"
   ]
  },
  {
   "cell_type": "code",
   "execution_count": null,
   "id": "1e846fea-4aad-43a7-b629-33ac91c0f966",
   "metadata": {},
   "outputs": [],
   "source": [
    "client = Client(Cluster)\n",
    "client"
   ]
  },
  {
   "cell_type": "markdown",
   "id": "df786ff4-2b0a-46c8-9308-78f62c372f90",
   "metadata": {},
   "source": [
    "### The integral notebook of functions to run"
   ]
  },
  {
   "cell_type": "code",
   "execution_count": 3,
   "id": "90eb2dbb-ee27-440e-ad4a-703f1d7e8593",
   "metadata": {},
   "outputs": [],
   "source": [
    "%run File_concat_mod_functions.ipynb"
   ]
  },
  {
   "cell_type": "markdown",
   "id": "74e51dc8-c398-4de4-bd6d-fe1bf129996e",
   "metadata": {},
   "source": [
    "the main function to run is:\n",
    "\n",
    "    return_concat(model, variable, prototype = None)\n",
    "\n",
    "Where the prototype is only needed for the UFS_S2S model choice. "
   ]
  },
  {
   "cell_type": "markdown",
   "id": "14ad7cd2-5737-48e7-89f2-61a7114dd4b7",
   "metadata": {
    "tags": []
   },
   "source": [
    "## UFS\n",
    "expected timesteps = 1460"
   ]
  },
  {
   "cell_type": "code",
   "execution_count": null,
   "id": "08c7fe73-1582-4d10-ba17-aa80c7f6c65e",
   "metadata": {},
   "outputs": [],
   "source": [
    "output_dir = 'database_files'"
   ]
  },
  {
   "cell_type": "code",
   "execution_count": null,
   "id": "63a4dc57-5717-42d0-94ba-64454dd19946",
   "metadata": {},
   "outputs": [],
   "source": [
    "model = 'UFS_S2S'\n",
    "prototypes = [5,6,7,8]"
   ]
  },
  {
   "cell_type": "code",
   "execution_count": null,
   "id": "ab64a65d-9bb3-4e14-ba97-f0955d039dfe",
   "metadata": {},
   "outputs": [],
   "source": [
    "var_list = [get_model_var(model,'TEMP'), get_model_var(model,'RH')]\n",
    "var_list"
   ]
  },
  {
   "cell_type": "code",
   "execution_count": null,
   "id": "5e5166d8-58f2-4deb-b344-7bff0a4e39a4",
   "metadata": {},
   "outputs": [],
   "source": [
    "%%time\n",
    "\n",
    "for p in prototypes:\n",
    "\n",
    "    parent_dirs = glob.glob(os.path.join(f'{model}/{p}/', '*'))\n",
    "    \n",
    "    for i in parent_dirs:\n",
    "                \n",
    "        dir_maker(os.path.join(f'{output_dir}', f'{i}'))\n",
    "        \n",
    "        temp_files = glob.glob(os.path.join(f'{i}/{var_list[0]}', f'*{var_list[0]}*'))\n",
    "        rh_files = glob.glob(os.path.join(f'{i}/{var_list[1]}', f'*{var_list[1]}*'))\n",
    "    \n",
    "        temp_file_cc = xr.open_mfdataset(temp_files, combine = 'nested', concat_dim = 'valid_time', chunks = get_chunk(model))\n",
    "        rh_file_cc = xr.open_mfdataset(rh_files, combine = 'nested', concat_dim = 'valid_time', chunks = get_chunk(model))\n",
    "        \n",
    "        temp_file_cc = temp_file_cc.sortby('valid_time')\n",
    "        rh_file_cc = rh_file_cc.sortby('valid_time')\n",
    "        \n",
    "        ufs_t2m = temp_file_cc.t2m - 273.15\n",
    "        ufs_rh = rh_file_cc.r2/100.\n",
    "    \n",
    "        ufs_vpd = vapor_pressure_deficit(ufs_t2m, ufs_rh)\n",
    "        \n",
    "        resampler_UFS('vpd', ufs_vpd.chunk(get_chunk(model)), output_dir, i, p)"
   ]
  },
  {
   "cell_type": "code",
   "execution_count": null,
   "id": "43e71859-7537-4c7f-aaeb-73e3262efcfd",
   "metadata": {},
   "outputs": [],
   "source": []
  },
  {
   "cell_type": "code",
   "execution_count": null,
   "id": "63046c8b-6610-4a03-aad1-62dac2fe18f6",
   "metadata": {},
   "outputs": [],
   "source": []
  }
 ],
 "metadata": {
  "kernelspec": {
   "display_name": "Python 3 (ipykernel)",
   "language": "python",
   "name": "python3"
  },
  "language_info": {
   "codemirror_mode": {
    "name": "ipython",
    "version": 3
   },
   "file_extension": ".py",
   "mimetype": "text/x-python",
   "name": "python",
   "nbconvert_exporter": "python",
   "pygments_lexer": "ipython3",
   "version": "3.12.0"
  }
 },
 "nbformat": 4,
 "nbformat_minor": 5
}
