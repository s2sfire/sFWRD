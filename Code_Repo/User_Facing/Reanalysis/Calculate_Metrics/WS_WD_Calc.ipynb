{
 "cells": [
  {
   "cell_type": "markdown",
   "id": "9a8662b6-1653-4667-b8c3-6a34ec89d44e",
   "metadata": {},
   "source": [
    "<a name=\"top\"></a>\n",
    "<div style=\"width:1000 px\">\n",
    "\n",
    "<div style=\"float:right; width:98 px; height:98px;\">\n",
    "<img src=\"https://cdn.miami.edu/_assets-common/images/system/um-logo-gray-bg.png\" alt=\"Miami Logo\" style=\"height: 98px;\">\n",
    "</div>\n",
    "\n",
    "<div style=\"float:right; width:98 px; height:98px;\">\n",
    "<img src=\"https://media.licdn.com/dms/image/C4E0BAQFlOZSAJABP4w/company-logo_200_200/0/1548285168598?e=2147483647&v=beta&t=g4jl8rEhB7HLJuNZhU6OkJWHW4cul_y9Kj_aoD7p0_Y\" alt=\"STI Logo\" style=\"height: 98px;\">\n",
    "</div>\n",
    "\n",
    "\n",
    "<h1>Calculate Windspeed and Direction for Each Model and Timestep</h1>\n",
    "By: Kayla Besong, PhD\n",
    "    <br>\n",
    "Last Edited: 12/11/23\n",
    "<br>\n",
    "<br>    \n",
    "<br>\n",
    "Takes models/variables downloaded and calculates the windspeed and direction. File_concat_mod_functions.ipynb imports the function that computes the 24HR AVG, MIN, MAX outputs. \n",
    "<div style=\"clear:both\"></div>\n",
    "</div>\n",
    "\n",
    "<hr style=\"height:2px;\">"
   ]
  },
  {
   "cell_type": "markdown",
   "id": "262c1627-38f4-4e1e-aab9-4cb234af55fd",
   "metadata": {
    "tags": []
   },
   "source": [
    "## Import needed libraries, etc."
   ]
  },
  {
   "cell_type": "code",
   "execution_count": null,
   "id": "c35dd037-c86b-4d25-a07e-c3a3bc023d77",
   "metadata": {
    "collapsed": false,
    "jupyter": {
     "outputs_hidden": false
    }
   },
   "outputs": [],
   "source": [
    "import matplotlib.pyplot as plt\n",
    "import numpy as np\n",
    "import xarray as xr\n",
    "import pandas as pd\n",
    "from dask.distributed import Client, LocalCluster\n",
    "import dask.array as da\n",
    "import os\n",
    "import glob\n",
    "from metpy.units import units\n",
    "import math\n",
    "import metpy"
   ]
  },
  {
   "cell_type": "code",
   "execution_count": null,
   "id": "307a18bb-3d23-4aef-b1fd-5c1f9accb5fc",
   "metadata": {},
   "outputs": [],
   "source": [
    "import warnings\n",
    "warnings.filterwarnings('ignore')\n",
    "warnings.simplefilter('ignore')\n",
    "pd.options.mode.chained_assignment = None"
   ]
  },
  {
   "cell_type": "markdown",
   "id": "a25b1270-e278-4ec7-a92b-8b6d7870178e",
   "metadata": {
    "tags": []
   },
   "source": [
    "## Establish a dask client. This is a lot of data."
   ]
  },
  {
   "cell_type": "code",
   "execution_count": null,
   "id": "9c441ade-063a-4be5-82db-750c0da14994",
   "metadata": {
    "tags": []
   },
   "outputs": [],
   "source": [
    "Cluster = LocalCluster(n_workers = 8, threads_per_worker=4, memory_limit='30GB',  processes=True)\n",
    "#Cluster = LocalCluster()"
   ]
  },
  {
   "cell_type": "code",
   "execution_count": null,
   "id": "1e846fea-4aad-43a7-b629-33ac91c0f966",
   "metadata": {},
   "outputs": [],
   "source": [
    "client = Client(Cluster)\n",
    "client"
   ]
  },
  {
   "cell_type": "markdown",
   "id": "df786ff4-2b0a-46c8-9308-78f62c372f90",
   "metadata": {},
   "source": [
    "### The integral notebook of functions to run"
   ]
  },
  {
   "cell_type": "code",
   "execution_count": null,
   "id": "90eb2dbb-ee27-440e-ad4a-703f1d7e8593",
   "metadata": {},
   "outputs": [],
   "source": [
    "%run File_concat_mod_functions.ipynb"
   ]
  },
  {
   "cell_type": "markdown",
   "id": "74e51dc8-c398-4de4-bd6d-fe1bf129996e",
   "metadata": {},
   "source": [
    "the main function to run is:\n",
    "\n",
    "    return_concat(model, variable, prototype = None)\n",
    "\n",
    "Where the prototype is only needed for the UFS_S2S model choice. "
   ]
  },
  {
   "cell_type": "markdown",
   "id": "fd375697-4ea6-4cf3-9f8d-f4df2120171f",
   "metadata": {},
   "source": [
    "# These are the available options the functions are designed for\n",
    "\n",
    "Not all variables will be available from all models but most are. "
   ]
  },
  {
   "cell_type": "code",
   "execution_count": null,
   "id": "65cc223d-d4a6-4745-9977-cf1f5fca2843",
   "metadata": {},
   "outputs": [],
   "source": [
    "model_options = ['CONUS404', 'ERA5', 'HRRR', 'NAM', 'NARR', 'NCEP', 'UFS_S2S']\n",
    "variable_options = ['PBL', 'CAPE', 'SOILM', 'WIND', 'PRECIP', 'TEMP', 'RH']"
   ]
  },
  {
   "cell_type": "code",
   "execution_count": null,
   "id": "08c7fe73-1582-4d10-ba17-aa80c7f6c65e",
   "metadata": {},
   "outputs": [],
   "source": [
    "output_dir = 'database_files'"
   ]
  },
  {
   "cell_type": "markdown",
   "id": "b6fbef68-2692-4f59-9710-acb242b7af31",
   "metadata": {
    "tags": []
   },
   "source": [
    "## CONUS404"
   ]
  },
  {
   "cell_type": "code",
   "execution_count": null,
   "id": "ced1cd86-20ec-493c-8d4b-e56819a2e50e",
   "metadata": {},
   "outputs": [],
   "source": [
    "%%time\n",
    "\n",
    "conus404_wind = return_concat('CONUS404', 'WIND')"
   ]
  },
  {
   "cell_type": "code",
   "execution_count": null,
   "id": "b3f29698-2a97-439c-8639-6935a2922d5e",
   "metadata": {},
   "outputs": [],
   "source": [
    "conus404_wind"
   ]
  },
  {
   "cell_type": "code",
   "execution_count": null,
   "id": "78994691-c249-47de-b884-dd9b66680db8",
   "metadata": {},
   "outputs": [],
   "source": [
    "w_speed_conus404 = metpy.calc.wind_speed(conus404_wind.U10 * units.meter_per_second, conus404_wind.V10 * units.meter_per_second)\n",
    "w_speed_conus404 = w_speed_conus404.metpy.dequantify().to_dataset(name = 'wspeed')"
   ]
  },
  {
   "cell_type": "code",
   "execution_count": null,
   "id": "41fd316a-3202-43b6-9a73-676e2fbd7a11",
   "metadata": {},
   "outputs": [],
   "source": [
    "wind_direction_conus404 = (270 - np.degrees(np.arctan2(conus404_wind.V10, conus404_wind.U10))) % 360\n",
    "wind_direction_conus404 = wind_direction_conus404.to_dataset(name = 'wdir')"
   ]
  },
  {
   "cell_type": "markdown",
   "id": "7faee0f4-c5a4-4569-b287-6fd7a84c0122",
   "metadata": {},
   "source": [
    "Get min, max, absolute for the new variable"
   ]
  },
  {
   "cell_type": "code",
   "execution_count": null,
   "id": "558e8965-874e-4bd4-8228-22a97a451f06",
   "metadata": {
    "scrolled": true
   },
   "outputs": [],
   "source": [
    "%%time\n",
    "resampler_regular_vars('wspeed', w_speed_conus404, output_dir, 'CONUS404')"
   ]
  },
  {
   "cell_type": "code",
   "execution_count": null,
   "id": "b7cc893f-4173-4bc6-85d2-da1e1547bec4",
   "metadata": {
    "scrolled": true
   },
   "outputs": [],
   "source": [
    "%%time\n",
    "resampler_regular_vars('wdir', wind_direction_conus404, output_dir, 'CONUS404')"
   ]
  },
  {
   "cell_type": "markdown",
   "id": "13e7a03c-66e8-4014-8b89-aa51df63eee0",
   "metadata": {},
   "source": [
    "## ERA5\n",
    "expected timesteps = 1460"
   ]
  },
  {
   "cell_type": "code",
   "execution_count": null,
   "id": "061b779a-a9e1-4f7b-a0ea-b7b4c094b984",
   "metadata": {
    "tags": []
   },
   "outputs": [],
   "source": [
    "%%time\n",
    "\n",
    "era_wind = return_concat('ERA5', 'WIND')"
   ]
  },
  {
   "cell_type": "code",
   "execution_count": null,
   "id": "0410661c-5857-4b5b-b3c0-468ec7c6c80b",
   "metadata": {},
   "outputs": [],
   "source": [
    "w_speed_era = metpy.calc.wind_speed(era_wind.u10 * units.meter_per_second, era_wind.v10 * units.meter_per_second)\n",
    "w_speed_era = w_speed_era.metpy.dequantify().to_dataset(name = 'wspeed')"
   ]
  },
  {
   "cell_type": "code",
   "execution_count": null,
   "id": "78c03c10-8ca0-4de0-8ac5-6bcc46929f4c",
   "metadata": {},
   "outputs": [],
   "source": [
    "wind_direction_era = (270 - np.degrees(np.arctan2(era_wind.v10, era_wind.u10))) % 360\n",
    "wind_direction_era = wind_direction_era.to_dataset(name = 'wdir')"
   ]
  },
  {
   "cell_type": "markdown",
   "id": "e5523cf8-5c83-4b69-ae21-93dc134c5986",
   "metadata": {},
   "source": [
    "Get min, max, absolute for the new variable"
   ]
  },
  {
   "cell_type": "code",
   "execution_count": null,
   "id": "db09fc88-7f9e-43dc-90fd-6278d8ae0509",
   "metadata": {},
   "outputs": [],
   "source": [
    "%%time\n",
    "resampler_regular_vars('wspeed', w_speed_era, output_dir, 'ERA5')"
   ]
  },
  {
   "cell_type": "code",
   "execution_count": null,
   "id": "1bff818b-dc6b-4da9-ab12-d8b973d656f7",
   "metadata": {},
   "outputs": [],
   "source": [
    "resampler_regular_vars('wdir', wind_direction_era, output_dir, 'ERA5')"
   ]
  },
  {
   "cell_type": "markdown",
   "id": "4cc29df7-d0f2-4ed7-9e7a-1e52afae305f",
   "metadata": {},
   "source": [
    "## HRRR\n",
    "expected timesteps = 1460"
   ]
  },
  {
   "cell_type": "code",
   "execution_count": null,
   "id": "66decc58-6b4a-4f13-abdd-6323ee59b5f4",
   "metadata": {},
   "outputs": [],
   "source": [
    "model = 'HRRR'"
   ]
  },
  {
   "cell_type": "code",
   "execution_count": null,
   "id": "a6b6c33c-60c8-4f37-84f4-dc8bc06228a3",
   "metadata": {},
   "outputs": [],
   "source": [
    "model_list = []\n",
    "parent_dir = f'{output_dir}/{model}'"
   ]
  },
  {
   "cell_type": "code",
   "execution_count": null,
   "id": "fba4aaf2-b814-4aa1-a48c-f2e27b4131dc",
   "metadata": {},
   "outputs": [],
   "source": [
    "vpd_variable_options = ['WIND']\n",
    "model_vars = []"
   ]
  },
  {
   "cell_type": "code",
   "execution_count": null,
   "id": "32b74761-7029-4ff6-96f8-f0e7131cb50c",
   "metadata": {},
   "outputs": [],
   "source": [
    "for v in vpd_variable_options:\n",
    "    v = get_model_var(model, v)\n",
    "    model_vars.append(v)\n",
    "    for vvv in v:\n",
    "        model_list.append(sorted(glob.glob(os.path.join(parent_dir, f'{vvv}_{get_filename(model)}_Abs_*.nc'))))\n"
   ]
  },
  {
   "cell_type": "code",
   "execution_count": null,
   "id": "bae6f5f8-4aee-4043-9e75-5f1780812eaf",
   "metadata": {},
   "outputs": [],
   "source": [
    "model_vars"
   ]
  },
  {
   "cell_type": "code",
   "execution_count": null,
   "id": "947767f3-f38b-4133-84cb-6870a6726648",
   "metadata": {},
   "outputs": [],
   "source": [
    "model_list = model_list[0:2]"
   ]
  },
  {
   "cell_type": "code",
   "execution_count": null,
   "id": "1d678aa9-0f27-4f1d-8f0b-f3fa237b548e",
   "metadata": {},
   "outputs": [],
   "source": [
    "if len(np.unique([len(i) for i in model_list])) >1:\n",
    "    print('the number of years for each variable are not the same')"
   ]
  },
  {
   "cell_type": "code",
   "execution_count": null,
   "id": "8d2be4f2-ba4a-4565-84fb-72021d9a5df0",
   "metadata": {},
   "outputs": [],
   "source": [
    "model_list"
   ]
  },
  {
   "cell_type": "code",
   "execution_count": null,
   "id": "438b8dd7-c44a-4e69-9c3b-2c453540cf95",
   "metadata": {},
   "outputs": [],
   "source": [
    "%%time\n",
    "\n",
    "for u,v in zip(model_list[0], model_list[1]):\n",
    "    if int(u[-7:-3]) != int(v[-7:-3]):\n",
    "        print('the years for each variable are not aligned, rh')\n",
    "    else:\n",
    "        print(u, v)\n",
    "\n",
    "        u10 = xr.open_dataset(u)\n",
    "        v10 = xr.open_dataset(v)\n",
    "\n",
    "        print('calculating wind speed')\n",
    "        w_speed_hrrr = metpy.calc.wind_speed(u10.u10 * units.meter_per_second, v10.v10 * units.meter_per_second)\n",
    "        w_speed_hrrr = w_speed_hrrr.metpy.dequantify().to_dataset(name = 'wspeed')\n",
    "        \n",
    "        print('calculating wind dir')\n",
    "        wind_direction_hrrr = (270 - np.degrees(np.arctan2(v10.v10, u10.u10))) % 360\n",
    "        wind_direction_hrrr = wind_direction_hrrr.to_dataset(name = 'wdir')\n",
    "\n",
    "        print('resampling')\n",
    "        resampler_regular_vars('wspeed', w_speed_hrrr, output_dir, 'HRRR')\n",
    "        resampler_regular_vars('wdir', wind_direction_hrrr, output_dir, 'HRRR')\n",
    "        "
   ]
  },
  {
   "cell_type": "code",
   "execution_count": null,
   "id": "95d039ed-292c-4bc5-baf8-5c91e627a286",
   "metadata": {},
   "outputs": [],
   "source": []
  },
  {
   "cell_type": "markdown",
   "id": "add15c37-e917-417e-a5ca-e8dd871f24ec",
   "metadata": {},
   "source": [
    "## NAM\n",
    "expected timesteps = 1460"
   ]
  },
  {
   "cell_type": "code",
   "execution_count": null,
   "id": "7d96d7c6-2cec-4275-b5ef-a8ed0a964d52",
   "metadata": {},
   "outputs": [],
   "source": [
    "model = 'NAM'"
   ]
  },
  {
   "cell_type": "code",
   "execution_count": null,
   "id": "5e749f13-d129-49f5-8fbe-fc18bf5a9b4f",
   "metadata": {},
   "outputs": [],
   "source": [
    "model_list = []\n",
    "parent_dir = f'{output_dir}/{model}'"
   ]
  },
  {
   "cell_type": "code",
   "execution_count": null,
   "id": "97e046d2-833a-423e-aa32-02f908902cdc",
   "metadata": {},
   "outputs": [],
   "source": [
    "vpd_variable_options = ['WIND']\n",
    "model_vars = []"
   ]
  },
  {
   "cell_type": "code",
   "execution_count": null,
   "id": "2b88a633-b45a-48c8-8e26-561c3be9803c",
   "metadata": {},
   "outputs": [],
   "source": [
    "for v in vpd_variable_options:\n",
    "    v = get_model_var(model, v)\n",
    "    model_vars.append(v)\n",
    "    for vvv in v:\n",
    "        model_list.append(sorted(glob.glob(os.path.join(parent_dir, f'{vvv}_{get_filename(model)}_Abs_*2012.nc'))))\n"
   ]
  },
  {
   "cell_type": "code",
   "execution_count": null,
   "id": "4bd2fc1c-db0b-4a8b-addc-e3d29dcbade5",
   "metadata": {},
   "outputs": [],
   "source": [
    "model_vars"
   ]
  },
  {
   "cell_type": "code",
   "execution_count": null,
   "id": "092dbb93-e374-4c5b-b71b-c423e3600a47",
   "metadata": {},
   "outputs": [],
   "source": [
    "model_list = model_list[0:2]"
   ]
  },
  {
   "cell_type": "code",
   "execution_count": null,
   "id": "a56c4df2-5f5b-47d7-98bb-2c459aaf5d9d",
   "metadata": {},
   "outputs": [],
   "source": [
    "if len(np.unique([len(i) for i in model_list])) >1:\n",
    "    print('the number of years for each variable are not the same')"
   ]
  },
  {
   "cell_type": "code",
   "execution_count": null,
   "id": "493d2c6c-0800-42b5-b642-ccdefcf5b14c",
   "metadata": {},
   "outputs": [],
   "source": [
    "model_list"
   ]
  },
  {
   "cell_type": "code",
   "execution_count": null,
   "id": "b5862620-9845-4ae1-a3f4-5be393dc7649",
   "metadata": {},
   "outputs": [],
   "source": [
    "%%time\n",
    "\n",
    "for u,v in zip(model_list[0], model_list[1]):\n",
    "    if int(u[-7:-3]) != int(v[-7:-3]):\n",
    "        print('the years for each variable are not aligned, rh')\n",
    "    else:\n",
    "        print(u, v)\n",
    "\n",
    "        u10 = xr.open_dataset(u)\n",
    "        v10 = xr.open_dataset(v)\n",
    "\n",
    "        print('calculating wind speed')\n",
    "        w_speed_nam = metpy.calc.wind_speed(u10.u10 * units.meter_per_second, v10.v10 * units.meter_per_second)\n",
    "        w_speed_nam = w_speed_nam.metpy.dequantify().to_dataset(name = 'wspeed')\n",
    "        \n",
    "        print('calculating wind dir')\n",
    "        wind_direction_nam = (270 - np.degrees(np.arctan2(v10.v10, u10.u10))) % 360\n",
    "        wind_direction_nam = wind_direction_nam.to_dataset(name = 'wdir')\n",
    "\n",
    "        print('resampling')\n",
    "        resampler_regular_vars('wspeed', w_speed_nam, output_dir, 'NAM')\n",
    "        resampler_regular_vars('wdir', wind_direction_nam, output_dir, 'NAM')\n",
    "        "
   ]
  },
  {
   "cell_type": "code",
   "execution_count": null,
   "id": "36b21647-73a0-4aec-98d9-513391acf8b3",
   "metadata": {},
   "outputs": [],
   "source": []
  },
  {
   "cell_type": "markdown",
   "id": "0134ba81-758d-41e9-ad94-14f7e347cf4e",
   "metadata": {},
   "source": [
    "## NARR\n",
    "expected timesteps = 1460"
   ]
  },
  {
   "cell_type": "code",
   "execution_count": null,
   "id": "694b8d6d-03d3-45a3-abac-f0d49096d71b",
   "metadata": {},
   "outputs": [],
   "source": [
    "%%time\n",
    "\n",
    "narr_wind = return_concat('NARR', 'WIND')"
   ]
  },
  {
   "cell_type": "code",
   "execution_count": null,
   "id": "5eea0efc-6d93-4acb-9e1a-c63fec126e0e",
   "metadata": {},
   "outputs": [],
   "source": [
    "narr_wind"
   ]
  },
  {
   "cell_type": "code",
   "execution_count": null,
   "id": "ab953815-20d0-4d0b-b8db-51c29057176d",
   "metadata": {},
   "outputs": [],
   "source": [
    "w_speed_narr = metpy.calc.wind_speed(narr_wind['u-component_of_wind_height_above_ground'] * units.meter_per_second, narr_wind['v-component_of_wind_height_above_ground'] * units.meter_per_second)\n",
    "w_speed_narr = w_speed_narr.metpy.dequantify().to_dataset(name = 'wspeed')"
   ]
  },
  {
   "cell_type": "code",
   "execution_count": null,
   "id": "613b3989-61d7-4f0e-96ae-8d68ac8a31bf",
   "metadata": {},
   "outputs": [],
   "source": [
    "wind_direction_narr = (270 - np.degrees(np.arctan2(narr_wind['v-component_of_wind_height_above_ground'], narr_wind['u-component_of_wind_height_above_ground']))) % 360\n",
    "wind_direction_narr = wind_direction_narr.to_dataset(name = 'wdir')"
   ]
  },
  {
   "cell_type": "markdown",
   "id": "a4c62c7b-6d93-4276-a325-a0b3ef4f6782",
   "metadata": {},
   "source": [
    "Get min, max, absolute for the new variable"
   ]
  },
  {
   "cell_type": "code",
   "execution_count": null,
   "id": "f1018f51-f82c-4a27-9d62-12178712052e",
   "metadata": {},
   "outputs": [],
   "source": [
    "%%time\n",
    "resampler_regular_vars('wspeed', w_speed_narr, output_dir, 'NARR')"
   ]
  },
  {
   "cell_type": "code",
   "execution_count": null,
   "id": "d6bde762-196a-4d29-8262-ceb81081e54f",
   "metadata": {
    "scrolled": true
   },
   "outputs": [],
   "source": [
    "%%time\n",
    "resampler_regular_vars('wdir', wind_direction_narr, output_dir, 'NARR')"
   ]
  },
  {
   "cell_type": "markdown",
   "id": "1ea2aa9c-5c8a-428a-b565-ae72293b2a86",
   "metadata": {
    "tags": []
   },
   "source": [
    "## NCEP\n",
    "expected timesteps = 1460"
   ]
  },
  {
   "cell_type": "code",
   "execution_count": null,
   "id": "57542044-3b95-4952-ae80-ba05d014e7b7",
   "metadata": {},
   "outputs": [],
   "source": [
    "%%time\n",
    "\n",
    "ncep_wind = return_concat('NCEP', 'WIND')"
   ]
  },
  {
   "cell_type": "code",
   "execution_count": null,
   "id": "d3e6079a-9706-4966-91d2-a27d90c2ad75",
   "metadata": {},
   "outputs": [],
   "source": [
    "ncep_wind"
   ]
  },
  {
   "cell_type": "code",
   "execution_count": null,
   "id": "85483733-2706-422a-b2f1-0545d71f61d0",
   "metadata": {},
   "outputs": [],
   "source": [
    "w_speed_ncep = metpy.calc.wind_speed(ncep_wind.uwnd * units.meter_per_second, ncep_wind.vwnd * units.meter_per_second)\n",
    "w_speed_ncep = w_speed_ncep.metpy.dequantify().to_dataset(name = 'wspeed')"
   ]
  },
  {
   "cell_type": "code",
   "execution_count": null,
   "id": "dabf080d-252e-4a21-9ceb-1158ded79318",
   "metadata": {},
   "outputs": [],
   "source": [
    "wind_direction_ncep = (270 - np.degrees(np.arctan2(ncep_wind.vwnd, ncep_wind.uwnd))) % 360\n",
    "wind_direction_ncep = wind_direction_ncep.to_dataset(name = 'wdir')"
   ]
  },
  {
   "cell_type": "markdown",
   "id": "a838aef7-758b-40b4-8e71-53aafa24ad15",
   "metadata": {},
   "source": [
    "Get min, max, absolute for the new variable"
   ]
  },
  {
   "cell_type": "code",
   "execution_count": null,
   "id": "86dbaeb1-2797-4ab3-8306-52cc2a97a708",
   "metadata": {},
   "outputs": [],
   "source": [
    "%%time\n",
    "resampler_regular_vars('wspeed', w_speed_ncep, output_dir, 'NCEP')"
   ]
  },
  {
   "cell_type": "code",
   "execution_count": null,
   "id": "f804b8fe-044b-4c52-8075-a97eca217702",
   "metadata": {
    "scrolled": true
   },
   "outputs": [],
   "source": [
    "%%time\n",
    "resampler_regular_vars('wdir', wind_direction_ncep, output_dir, 'NCEP')"
   ]
  },
  {
   "cell_type": "code",
   "execution_count": null,
   "id": "2296f1e5-d756-4ec5-bba5-3300ed1346fd",
   "metadata": {},
   "outputs": [],
   "source": []
  }
 ],
 "metadata": {
  "kernelspec": {
   "display_name": "Python 3 (ipykernel)",
   "language": "python",
   "name": "python3"
  },
  "language_info": {
   "codemirror_mode": {
    "name": "ipython",
    "version": 3
   },
   "file_extension": ".py",
   "mimetype": "text/x-python",
   "name": "python",
   "nbconvert_exporter": "python",
   "pygments_lexer": "ipython3",
   "version": "3.12.0"
  }
 },
 "nbformat": 4,
 "nbformat_minor": 5
}
