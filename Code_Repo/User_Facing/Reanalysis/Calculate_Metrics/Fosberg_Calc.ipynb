{
 "cells": [
  {
   "cell_type": "markdown",
   "id": "8a548ed0-bf70-4a36-a1ad-5640bdecc9f7",
   "metadata": {},
   "source": [
    "<a name=\"top\"></a>\n",
    "<div style=\"width:1000 px\">\n",
    "\n",
    "<div style=\"float:right; width:98 px; height:98px;\">\n",
    "<img src=\"https://cdn.miami.edu/_assets-common/images/system/um-logo-gray-bg.png\" alt=\"Miami Logo\" style=\"height: 98px;\">\n",
    "</div>\n",
    "\n",
    "<div style=\"float:right; width:98 px; height:98px;\">\n",
    "<img src=\"https://media.licdn.com/dms/image/C4E0BAQFlOZSAJABP4w/company-logo_200_200/0/1548285168598?e=2147483647&v=beta&t=g4jl8rEhB7HLJuNZhU6OkJWHW4cul_y9Kj_aoD7p0_Y\" alt=\"STI Logo\" style=\"height: 98px;\">\n",
    "</div>\n",
    "\n",
    "\n",
    "<h1>Calculate the Fosberg Fire Weather Index for Each Model and Timestep</h1>\n",
    "By: Kayla Besong, PhD\n",
    "    <br>\n",
    "Last Edited: 11/29/23\n",
    "<br>\n",
    "<br>    \n",
    "<br>\n",
    "Takes models/variables downloaded and calculates the Fosberg Fire Weather Index. This notebook leverages already generated database files.\n",
    "<div style=\"clear:both\"></div>\n",
    "</div>\n",
    "\n",
    "<hr style=\"height:2px;\">"
   ]
  },
  {
   "cell_type": "markdown",
   "id": "238f85ca-8388-4c33-bb77-ded0c5e1552e",
   "metadata": {
    "tags": []
   },
   "source": [
    "## Import needed libraries, etc."
   ]
  },
  {
   "cell_type": "code",
   "execution_count": null,
   "id": "cc4e3115-63fa-4d33-be39-3d71d8b32060",
   "metadata": {
    "collapsed": false,
    "jupyter": {
     "outputs_hidden": false
    }
   },
   "outputs": [],
   "source": [
    "import matplotlib.pyplot as plt\n",
    "import numpy as np\n",
    "import xarray as xr\n",
    "import pandas as pd\n",
    "from dask.distributed import Client, LocalCluster\n",
    "import dask.array as da\n",
    "import os\n",
    "import glob\n",
    "from metpy.units import units\n",
    "import math"
   ]
  },
  {
   "cell_type": "code",
   "execution_count": null,
   "id": "7d7e41eb-7e5b-47e8-b872-5752dc9ce96e",
   "metadata": {},
   "outputs": [],
   "source": [
    "import warnings\n",
    "warnings.filterwarnings('ignore')\n",
    "warnings.simplefilter('ignore')\n",
    "pd.options.mode.chained_assignment = None"
   ]
  },
  {
   "cell_type": "markdown",
   "id": "9ef8e74e-c6b4-4418-beca-47bb69848ba5",
   "metadata": {
    "tags": []
   },
   "source": [
    "## OPTIONAL: Establish a dask client. This is a lot of data."
   ]
  },
  {
   "cell_type": "code",
   "execution_count": null,
   "id": "60312341-f84a-49a8-87e0-b4e9a87afb67",
   "metadata": {
    "tags": []
   },
   "outputs": [],
   "source": [
    "Cluster = LocalCluster(n_workers = 8, threads_per_worker=4, memory_limit='30GB',  processes=True)\n",
    "#Cluster = LocalCluster()"
   ]
  },
  {
   "cell_type": "code",
   "execution_count": null,
   "id": "fe703ac9-e1d9-4390-9413-beec4c29f008",
   "metadata": {},
   "outputs": [],
   "source": [
    "client = Client(Cluster)\n",
    "client"
   ]
  },
  {
   "cell_type": "markdown",
   "id": "f4ef59df-1744-49f6-930f-bce1780f93f6",
   "metadata": {},
   "source": [
    "### The integral notebook of functions to run"
   ]
  },
  {
   "cell_type": "code",
   "execution_count": null,
   "id": "20149960-4696-447d-8447-480b8d815272",
   "metadata": {},
   "outputs": [],
   "source": [
    "%run File_concat_mod_functions.ipynb"
   ]
  },
  {
   "cell_type": "markdown",
   "id": "5f133142-6a8f-4cf3-81de-075094f58b73",
   "metadata": {},
   "source": [
    "## The Fosberg function, variables, models, etc. "
   ]
  },
  {
   "cell_type": "code",
   "execution_count": null,
   "id": "6610e9fe-af8e-4dd0-a2df-b1733a266692",
   "metadata": {},
   "outputs": [],
   "source": [
    "model_options = ['CONUS404', 'ERA5', 'HRRR', 'NAM', 'NARR', 'NCEP', 'UFS_S2S']\n",
    "variable_options =  ['PBL', 'CAPE', 'SOILM', 'WIND_COMP', 'PRECIP', 'TEMP', 'RH', 'WINDSPEED', 'WINDDIR', 'HDWI', 'VPD']"
   ]
  },
  {
   "cell_type": "code",
   "execution_count": null,
   "id": "c2f9e1b4-a72e-4387-bf08-80178a1ff3a7",
   "metadata": {},
   "outputs": [],
   "source": [
    "output_dir = 'database_files'"
   ]
  },
  {
   "cell_type": "code",
   "execution_count": null,
   "id": "b3a22dfa-3587-46d7-85b2-146eb7577c25",
   "metadata": {},
   "outputs": [],
   "source": [
    "# RH_not_in_percent = ['CONUS404', 'ERA5']\n",
    "# RH_in_percent = ['NARR', 'NCEP', 'HRRR', 'UFS_S2S']"
   ]
  },
  {
   "cell_type": "code",
   "execution_count": 1,
   "id": "1071b8bc-6654-4eb3-a586-e38e9a700143",
   "metadata": {},
   "outputs": [],
   "source": [
    "def get_m(h, t):\n",
    "\n",
    "    ''' This function calculates the equilibrium moisture content (m) for the Fosberg Index given conditionals.\n",
    "\n",
    "    Inputs:\n",
    "\n",
    "    h: (float) relative humidity value \n",
    "    t: (float) temperature value\n",
    "\n",
    "    Outputs:\n",
    "\n",
    "    m: (float or nan) \n",
    "\n",
    "    '''\n",
    "    \n",
    "    if h < 10:\n",
    "    \n",
    "        m =0.03229 + 0.281073*h - 0.000578*h*t\n",
    "    \n",
    "    elif h >= 10 and h < 50:\n",
    "    \n",
    "        m = 2.22749 + 0.160107*h - 0.01478*t\n",
    "    \n",
    "    elif h >= 50:\n",
    "    \n",
    "        m = 21.0606 + 0.005565*h**2 - 0.00035*h*t - 0.483199*h\n",
    "\n",
    "    else:\n",
    "\n",
    "        m = np.nan\n",
    "\n",
    "    return m\n"
   ]
  },
  {
   "cell_type": "code",
   "execution_count": null,
   "id": "25203f84-1b26-40f0-a7b6-f8d24976263f",
   "metadata": {},
   "outputs": [],
   "source": [
    "def time_isect(tempt, rht, ws, model):\n",
    "\n",
    "    ''' Function designed to handle problematic datasets where the data is not complete for all variables. This can be skipped if your data is already cleaned. \n",
    "\n",
    "    Inputs:\n",
    "\n",
    "    tempt: (xarray dataset) input dataset containing temperature values \n",
    "    rht: (xarray dataset) input dataset containing relative humidity values in percent\n",
    "    ws: (xarray dataset) input dataset containing windspeed values \n",
    "    model: (str) model name\n",
    "\n",
    "    Outputs:\n",
    "\n",
    "    tempt: (xarray dataset) input dataset containing temperature values with same times as rht and ws\n",
    "    rht: (xarray dataset) input dataset containing relative humidity values in percent with same times as tempt and ws\n",
    "    ws: (xarray dataset) input dataset containing windspeed values with same times as rht and tempt\n",
    "\n",
    "    '''\n",
    "    \n",
    "\n",
    "    if model == 'CONUS404':                                                                                 # Check if the model is 'CONUS404'\n",
    "        \n",
    "        t_times = tempt.Time.values                                                                         # Get time values from temperature dataset\n",
    "        r_times = rht.Time.values                                                                           # Get time values from relative humidity dataset\n",
    "        w_times = ws.Time.values                                                                            # Get time values from wind speed dataset\n",
    "        \n",
    "        sel_times = np.intersect1d(np.intersect1d(t_times, r_times), w_times)                               # Find common time values across all datasets\n",
    "    \n",
    "        tempt = tempt.sel(Time = sel_times)                                                                 # Select temperature data for common times\n",
    "        rht = rht.sel(Time = sel_times)                                                                     # Select relative humidity data for common times\n",
    "        ws = ws.sel(Time = sel_times)                                                                       # Select wind speed data for common times\n",
    "\n",
    "    elif model == 'NAM':                                                                                    # Check if the model is 'NAM'\n",
    "        \n",
    "        r_times = rht.time.values                                                                           # Get time values from relative humidity dataset\n",
    "        \n",
    "        matching_indices_1 = [i for i, t in enumerate(tempt.time.values) if t in r_times]                   # Find indices in temperature data that match relative humidity times\n",
    "\n",
    "        tempt = tempt.isel(time=matching_indices_1)                                                         # Select temperature data for matching indices\n",
    "        t_times = tempt.time.values                                                                         # Get updated time values from temperature dataset\n",
    "        \n",
    "        matching_indices_2 = [i for i, t in enumerate(ws.time.values) if t in t_times]                      # Find indices in wind speed data that match updated temperature times\n",
    "\n",
    "        ws = ws.isel(time = matching_indices_2)                                                             # Select wind speed data for matching indices\n",
    "\n",
    "    else:                                                                                                   # For any other model\n",
    "        \n",
    "        t_times = tempt.time.values                                                                         # Get time values from temperature dataset\n",
    "        r_times = rht.time.values                                                                           # Get time values from relative humidity dataset\n",
    "        w_times = ws.time.values                                                                            # Get time values from wind speed dataset\n",
    "        \n",
    "        sel_times = np.intersect1d(np.intersect1d(t_times, r_times), w_times)                               # Find common time values across all datasets\n",
    "    \n",
    "        tempt = tempt.sel(time = sel_times)                                                                 # Select temperature data for common times\n",
    "        rht = rht.sel(time = sel_times)                                                                     # Select relative humidity data for common times\n",
    "        ws = ws.sel(time = sel_times)                                                                       # Select wind speed data for common times\n",
    "\n",
    "    return tempt, rht, ws   "
   ]
  },
  {
   "cell_type": "code",
   "execution_count": null,
   "id": "8bacef41-e7d9-4812-8152-08f3b651bf37",
   "metadata": {},
   "outputs": [],
   "source": [
    "def ffwi(model, output_dir):\n",
    "\n",
    "\n",
    "    ''' Function to compute the Fosberg Fire Weather Index given the input model and directory where data lives. \n",
    "\n",
    "    Inputs:\n",
    "    \n",
    "    model: (str) model name, used as file path \n",
    "    output_dir: (str) the directory that contains the model data \n",
    "\n",
    "    Outputs:\n",
    "    \n",
    "    Nothing, files are saved to pointed directory.  \n",
    "\n",
    "    '''\n",
    "    \n",
    "    model_list = []                                                                                                     # Initialize an empty list to store file lists for each variable\n",
    "                      \n",
    "    parent_dir = f'{output_dir}/{model}'                                                                                # Define the parent directory path for the model\n",
    "                      \n",
    "    variable_options = ['TEMP', 'RH', 'WINDSPEED']                                                                      # List of variable options to process\n",
    "    model_vars = []                                                                                                     # Initialize an empty list to store processed variable names\n",
    "    get_m_vec = np.vectorize(get_m)                                                                                     # Vectorize the get_m function for efficient array operations\n",
    "                      \n",
    "    for v in variable_options:                                                                                          # Iterate over each variable option\n",
    "        v = get_model_var_database(model, v)                                                                            # Retrieve the standardized variable name for the model\n",
    "        model_vars.append(v)                                                                                            # Append the standardized variable name to model_vars list\n",
    "        model_list.append(sorted(glob.glob(os.path.join(parent_dir, f'{v}_{get_filename(model)}_Abs_*.nc'))))           # Append sorted list of file paths for each variable\n",
    "                      \n",
    "    if len(np.unique([len(i) for i in model_list])) > 1:                                                                # Check if the number of files for each variable is the same\n",
    "        print('the number of years for each variable are not the same')                                                 # Print a message if the number of files is not the same\n",
    "                      \n",
    "    else:                  \n",
    "        ct = 0                                                                                                          # Initialize a counter\n",
    "        for temp, rh in zip(model_list[0], model_list[1]):                                                              # Iterate over pairs of files for temperature and relative humidity\n",
    "            if int(temp[-7:-3]) != int(rh[-7:-3]):                                                                      # Check if the years in the file names are aligned\n",
    "                print('the years for each variable are not aligned, rh')                                                # Print a message if the years are not aligned for temperature and relative humidity\n",
    "            else:                  \n",
    "                ws = model_list[2][ct]                                                                                  # Retrieve the corresponding wind speed file\n",
    "                      \n",
    "                if int(temp[-7:-3]) != int(ws[-7:-3]):                                                                  # Check if the years in the file names are aligned for wind speed\n",
    "                    print('the years for each variable are not aligned, ws')                                            # Print a message if the years are not aligned for wind speed\n",
    "                else:                  \n",
    "                    print(temp, rh)                                                                                     # Print the file names for temperature and relative humidity\n",
    "                      \n",
    "                    if model == 'NAM':                                                                                  # Special handling for NAM model that would not cooperate with DASK \n",
    "                        tempt = xr.open_dataset(temp)                                                                   # Open the dataset for temperature\n",
    "                        rht = xr.open_dataset(rh)                                                                       # Open the dataset for relative humidity\n",
    "                        ws = xr.open_dataset(ws)                                                                        # Open the dataset for wind speed\n",
    "                    else:                 \n",
    "                        tempt = xr.open_dataset(temp).chunk(get_chunk_database(model))                                  # Open and chunk the dataset for temperature\n",
    "                        rht = xr.open_dataset(rh).chunk(get_chunk_database(model))                                      # Open and chunk the dataset for relative humidity\n",
    "                        ws = xr.open_dataset(ws).chunk(get_chunk_database(model))                                       # Open and chunk the dataset for wind speed\n",
    "                    \n",
    "                    if model == 'ERA5' or model == 'CONUS404' or model == 'HRRR':                                       # Adjust relative humidity for specific models\n",
    "                        rht = rht*100                                                                                   # Convert relative humidity to percentage\n",
    "                    \n",
    "                    tempt = (tempt - 273.15)*(9./5.)+32                                                                 # Convert temperature from Kelvin to Fahrenheit\n",
    "                    \n",
    "                    tempt, rht, ws = time_isect(tempt, rht, ws, model)                                                  # Intersect the time dimensions of the datasets\n",
    "                    \n",
    "                    m = xr.apply_ufunc(get_m_vec, rht[model_vars[1]], tempt[model_vars[0]], dask='parallelized')        # Broadcast the get_m function across the dataset, cool trick \n",
    "                    n = 1-2*(m/30)+1.5*(m/30)**2-0.5*(m/30)**3                                                          # Calculate n based on m\n",
    "                    ffwi = (n*((1+ws[model_vars[2]]**2)**0.5)/0.3002).to_dataset(name='ffwi')                           # Calculate FFWI and create a new dataset\n",
    "                    \n",
    "                    resampler_regular_vars('ffwi', ffwi, output_dir, model)                                             # Resample and save the FFWI dataset\n",
    "                    \n",
    "                    ct += 1                                                                                             # Increment the counter\n"
   ]
  },
  {
   "cell_type": "markdown",
   "id": "e7924893-6d0c-45f3-8b6e-f579b145ad32",
   "metadata": {},
   "source": [
    "### Run the function by model. I split it up so I can restart the kernel in between but can be worked into a for loop."
   ]
  },
  {
   "cell_type": "code",
   "execution_count": null,
   "id": "05c08b84-382e-4217-97f3-aaeb5ee28a05",
   "metadata": {
    "scrolled": true
   },
   "outputs": [],
   "source": [
    "%%time\n",
    "\n",
    "ffwi('NARR', output_dir)"
   ]
  },
  {
   "cell_type": "code",
   "execution_count": null,
   "id": "34e0d4e8-d93a-4484-88c1-916368fb18f4",
   "metadata": {},
   "outputs": [],
   "source": [
    "%%time\n",
    "\n",
    "ffwi('ERA5', output_dir)"
   ]
  },
  {
   "cell_type": "code",
   "execution_count": null,
   "id": "c2de4110-0fbc-4af7-b661-b753e734d073",
   "metadata": {},
   "outputs": [],
   "source": [
    "%%time\n",
    "\n",
    "ffwi('HRRR', output_dir)"
   ]
  },
  {
   "cell_type": "code",
   "execution_count": null,
   "id": "9cc25397-9f5f-428e-ae29-711c68afb8ad",
   "metadata": {},
   "outputs": [],
   "source": [
    "%%time\n",
    "\n",
    "ffwi('CONUS404', output_dir)"
   ]
  },
  {
   "cell_type": "code",
   "execution_count": null,
   "id": "d475b9e5-cb27-4c81-8771-ab229a997fb1",
   "metadata": {
    "scrolled": true
   },
   "outputs": [],
   "source": [
    "%%time\n",
    "\n",
    "ffwi('NAM', output_dir)"
   ]
  },
  {
   "cell_type": "code",
   "execution_count": null,
   "id": "52ef84a8-bac3-4bf2-ab4b-a5aefbb4e763",
   "metadata": {},
   "outputs": [],
   "source": []
  }
 ],
 "metadata": {
  "kernelspec": {
   "display_name": "Python 3 (ipykernel)",
   "language": "python",
   "name": "python3"
  },
  "language_info": {
   "codemirror_mode": {
    "name": "ipython",
    "version": 3
   },
   "file_extension": ".py",
   "mimetype": "text/x-python",
   "name": "python",
   "nbconvert_exporter": "python",
   "pygments_lexer": "ipython3",
   "version": "3.12.0"
  }
 },
 "nbformat": 4,
 "nbformat_minor": 5
}
