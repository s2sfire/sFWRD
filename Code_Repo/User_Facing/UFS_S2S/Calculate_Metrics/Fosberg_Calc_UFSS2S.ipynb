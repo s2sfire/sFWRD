{
 "cells": [
  {
   "cell_type": "markdown",
   "id": "8a548ed0-bf70-4a36-a1ad-5640bdecc9f7",
   "metadata": {},
   "source": [
    "<a name=\"top\"></a>\n",
    "<div style=\"width:1000 px\">\n",
    "\n",
    "<div style=\"float:right; width:98 px; height:98px;\">\n",
    "<img src=\"https://cdn.miami.edu/_assets-common/images/system/um-logo-gray-bg.png\" alt=\"Miami Logo\" style=\"height: 98px;\">\n",
    "</div>\n",
    "\n",
    "<div style=\"float:right; width:98 px; height:98px;\">\n",
    "<img src=\"https://media.licdn.com/dms/image/C4E0BAQFlOZSAJABP4w/company-logo_200_200/0/1548285168598?e=2147483647&v=beta&t=g4jl8rEhB7HLJuNZhU6OkJWHW4cul_y9Kj_aoD7p0_Y\" alt=\"STI Logo\" style=\"height: 98px;\">\n",
    "</div>\n",
    "\n",
    "\n",
    "<h1>Calculate the Fosberg Fire Weather Index for the UFS S2S</h1>\n",
    "By: Kayla Besong, PhD\n",
    "    <br>\n",
    "Last Edited: 11/29/23\n",
    "<br>\n",
    "<br>    \n",
    "<br>\n",
    "Takes models/variables downloaded and calculates the Fosberg Fire Weather Index. This notebook leverages already generated database files.\n",
    "<div style=\"clear:both\"></div>\n",
    "</div>\n",
    "\n",
    "<hr style=\"height:2px;\">"
   ]
  },
  {
   "cell_type": "markdown",
   "id": "238f85ca-8388-4c33-bb77-ded0c5e1552e",
   "metadata": {
    "tags": []
   },
   "source": [
    "## Import needed libraries, etc."
   ]
  },
  {
   "cell_type": "code",
   "execution_count": null,
   "id": "cc4e3115-63fa-4d33-be39-3d71d8b32060",
   "metadata": {
    "collapsed": false,
    "jupyter": {
     "outputs_hidden": false
    }
   },
   "outputs": [],
   "source": [
    "import matplotlib.pyplot as plt\n",
    "import numpy as np\n",
    "import xarray as xr\n",
    "import pandas as pd\n",
    "from dask.distributed import Client, LocalCluster\n",
    "import dask.array as da\n",
    "import os\n",
    "import glob\n",
    "from metpy.units import units\n",
    "import math"
   ]
  },
  {
   "cell_type": "code",
   "execution_count": null,
   "id": "7d7e41eb-7e5b-47e8-b872-5752dc9ce96e",
   "metadata": {},
   "outputs": [],
   "source": [
    "import warnings\n",
    "warnings.filterwarnings('ignore')\n",
    "warnings.simplefilter('ignore')\n",
    "pd.options.mode.chained_assignment = None"
   ]
  },
  {
   "cell_type": "markdown",
   "id": "9ef8e74e-c6b4-4418-beca-47bb69848ba5",
   "metadata": {
    "tags": []
   },
   "source": [
    "## Optional: Establish a dask client. This is a lot of data."
   ]
  },
  {
   "cell_type": "code",
   "execution_count": null,
   "id": "60312341-f84a-49a8-87e0-b4e9a87afb67",
   "metadata": {
    "tags": []
   },
   "outputs": [],
   "source": [
    "Cluster = LocalCluster(n_workers = 8, threads_per_worker=4, memory_limit='30GB',  processes=True)\n",
    "#Cluster = LocalCluster()"
   ]
  },
  {
   "cell_type": "code",
   "execution_count": null,
   "id": "fe703ac9-e1d9-4390-9413-beec4c29f008",
   "metadata": {},
   "outputs": [],
   "source": [
    "client = Client(Cluster)\n",
    "client"
   ]
  },
  {
   "cell_type": "markdown",
   "id": "f4ef59df-1744-49f6-930f-bce1780f93f6",
   "metadata": {},
   "source": [
    "### The integral notebook of functions to run"
   ]
  },
  {
   "cell_type": "code",
   "execution_count": null,
   "id": "20149960-4696-447d-8447-480b8d815272",
   "metadata": {},
   "outputs": [],
   "source": [
    "%run File_concat_mod_functions.ipynb"
   ]
  },
  {
   "cell_type": "markdown",
   "id": "5f133142-6a8f-4cf3-81de-075094f58b73",
   "metadata": {},
   "source": [
    "## The Fosberg functions"
   ]
  },
  {
   "cell_type": "code",
   "execution_count": 1,
   "id": "1071b8bc-6654-4eb3-a586-e38e9a700143",
   "metadata": {},
   "outputs": [],
   "source": [
    "def get_m(h, t):\n",
    "\n",
    "    ''' This function calculates the equilibrium moisture content (m) for the Fosberg Index given conditionals.\n",
    "\n",
    "    Inputs:\n",
    "\n",
    "    h: (float) relative humidity value \n",
    "    t: (float) temperature value\n",
    "\n",
    "    Outputs:\n",
    "\n",
    "    m: (float or nan) \n",
    "\n",
    "    '''\n",
    "    \n",
    "    if h < 10:\n",
    "    \n",
    "        m =0.03229 + 0.281073*h - 0.000578*h*t\n",
    "    \n",
    "    elif h >= 10 and h < 50:\n",
    "    \n",
    "        m = 2.22749 + 0.160107*h - 0.01478*t\n",
    "    \n",
    "    elif h >= 50:\n",
    "    \n",
    "        m = 21.0606 + 0.005565*h**2 - 0.00035*h*t - 0.483199*h\n",
    "\n",
    "    else:\n",
    "\n",
    "        m = np.nan\n",
    "\n",
    "    return m\n"
   ]
  },
  {
   "cell_type": "markdown",
   "id": "a5e688ad-dde7-4663-9981-2d71b3c6c33b",
   "metadata": {},
   "source": [
    "# UFS "
   ]
  },
  {
   "cell_type": "code",
   "execution_count": null,
   "id": "8792ee57-a614-4f64-9ec9-74005470e105",
   "metadata": {},
   "outputs": [],
   "source": [
    "output_dir = 'database_files'"
   ]
  },
  {
   "cell_type": "code",
   "execution_count": null,
   "id": "9fe007ac-526b-475a-8907-683808f420d9",
   "metadata": {},
   "outputs": [],
   "source": [
    "model = 'UFS_S2S'\n",
    "var_list = ['wspeed', 'r2', 't2m']\n",
    "var_list"
   ]
  },
  {
   "cell_type": "code",
   "execution_count": null,
   "id": "f8f3c22c-8591-4dce-ab38-95ca9dd7f35f",
   "metadata": {},
   "outputs": [],
   "source": [
    "parent_dirs = glob.glob(os.path.join(f'{model}/{p}/', '*'))"
   ]
  },
  {
   "cell_type": "code",
   "execution_count": null,
   "id": "6207ddf7-e996-4f5b-82ae-1af04c83586e",
   "metadata": {
    "scrolled": true
   },
   "outputs": [],
   "source": [
    "plist = [5,6,7,8]                                                                                                # List of parent directory identifiers\n",
    "     \n",
    "for p in plist:                                                                                                  # Loop through each parent directory identifier\n",
    "    parent_dirs = glob.glob(os.path.join(f'{model}/{p}/', '*'))                                                  # Get all subdirectories in the parent directory\n",
    "         \n",
    "    for i in parent_dirs:                                                                                        # Loop through each subdirectory\n",
    "                 \n",
    "        dir_maker(os.path.join(f'{output_dir}', f'{i}'))                                                         # Create the corresponding output directory\n",
    "             \n",
    "        w_files = glob.glob(os.path.join(f'{output_dir}/{i}/', f'*{var_list[0]}*Abs*'))[0]                       # Find the first file matching the wind speed pattern\n",
    "        rh_files = glob.glob(os.path.join(f'{output_dir}/{i}/', f'*{var_list[1]}*Abs*'))[0]                      # Find the first file matching the relative humidity pattern\n",
    "        temp_files = glob.glob(os.path.join(f'{output_dir}/{i}/', f'*{var_list[2]}*Abs*'))[0]                    # Find the first file matching the temperature pattern\n",
    "         \n",
    "        ws_file_cc = xr.open_dataset(w_files).chunk(get_chunk(model))                                            # Open and chunk the wind speed file\n",
    "        rh_file_cc = xr.open_dataset(rh_files).chunk(get_chunk(model))                                           # Open and chunk the relative humidity file\n",
    "        t2_file_cc = xr.open_dataset(temp_files).chunk(get_chunk(model))                                         # Open and chunk the temperature file\n",
    "             \n",
    "        ws_file_cc = ws_file_cc.sortby('valid_time')                                                             # Sort wind speed data by valid time\n",
    "        rh_file_cc = rh_file_cc.sortby('valid_time')                                                             # Sort relative humidity data by valid time\n",
    "        t2_file_cc = t2_file_cc.sortby('valid_time')                                                             # Sort temperature data by valid time\n",
    "        t2_file_cc = (t2_file_cc - 273.15)*(9./5.)+32                                                            # Convert temperature from Kelvin to Fahrenheit\n",
    "         \n",
    "        get_m_vec = np.vectorize(get_m)                                                                          # Vectorize the get_m function\n",
    "        m = xr.apply_ufunc(get_m_vec, rh_file_cc[var_list[1]], t2_file_cc[var_list[2]], dask ='parallelized')    # Broadcast the get_m function to get m from all points on the grid based on their rh and t values\n",
    "        n = 1-2*(m/30)+1.5*(m/30)**2-0.5*(m/30)**3                                                               # Calculate the n value\n",
    "        ffwi = (n*((1+ws_file_cc[var_list[0]]**2)**0.5)/0.3002).to_dataset(name = 'ffwi')                        # Calculate the Fire Weather Index (FFWI) and convert to dataset\n",
    "         \n",
    "        resampler_UFS('ffwi', ffwi.chunk(get_chunk(model)), output_dir, i, p)                                    # Resample and save the FFWI dataset\n",
    "     "
   ]
  },
  {
   "cell_type": "code",
   "execution_count": null,
   "id": "28e4d66f-98a3-4bcd-8913-e0951a76f44a",
   "metadata": {},
   "outputs": [],
   "source": []
  }
 ],
 "metadata": {
  "kernelspec": {
   "display_name": "Python 3 (ipykernel)",
   "language": "python",
   "name": "python3"
  },
  "language_info": {
   "codemirror_mode": {
    "name": "ipython",
    "version": 3
   },
   "file_extension": ".py",
   "mimetype": "text/x-python",
   "name": "python",
   "nbconvert_exporter": "python",
   "pygments_lexer": "ipython3",
   "version": "3.12.0"
  }
 },
 "nbformat": 4,
 "nbformat_minor": 5
}
