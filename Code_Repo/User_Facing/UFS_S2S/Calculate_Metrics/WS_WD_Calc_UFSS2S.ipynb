{
 "cells": [
  {
   "cell_type": "markdown",
   "id": "9a8662b6-1653-4667-b8c3-6a34ec89d44e",
   "metadata": {},
   "source": [
    "<a name=\"top\"></a>\n",
    "<div style=\"width:1000 px\">\n",
    "\n",
    "<div style=\"float:right; width:98 px; height:98px;\">\n",
    "<img src=\"https://cdn.miami.edu/_assets-common/images/system/um-logo-gray-bg.png\" alt=\"Miami Logo\" style=\"height: 98px;\">\n",
    "</div>\n",
    "\n",
    "<div style=\"float:right; width:98 px; height:98px;\">\n",
    "<img src=\"https://media.licdn.com/dms/image/C4E0BAQFlOZSAJABP4w/company-logo_200_200/0/1548285168598?e=2147483647&v=beta&t=g4jl8rEhB7HLJuNZhU6OkJWHW4cul_y9Kj_aoD7p0_Y\" alt=\"STI Logo\" style=\"height: 98px;\">\n",
    "</div>\n",
    "\n",
    "\n",
    "<h1>Calculate Windspeed and Direction for Each Model and Timestep</h1>\n",
    "By: Kayla Besong, PhD\n",
    "    <br>\n",
    "Last Edited: 12/11/23\n",
    "<br>\n",
    "<br>    \n",
    "<br>\n",
    "Takes UFS S2S data and calculates the windspeed and direction. File_concat_mod_functions.ipynb imports the function that computes the 24HR AVG, MIN, MAX outputs. \n",
    "<div style=\"clear:both\"></div>\n",
    "</div>\n",
    "\n",
    "<hr style=\"height:2px;\">"
   ]
  },
  {
   "cell_type": "markdown",
   "id": "262c1627-38f4-4e1e-aab9-4cb234af55fd",
   "metadata": {
    "tags": []
   },
   "source": [
    "## Import needed libraries, etc."
   ]
  },
  {
   "cell_type": "code",
   "execution_count": null,
   "id": "c35dd037-c86b-4d25-a07e-c3a3bc023d77",
   "metadata": {
    "collapsed": false,
    "jupyter": {
     "outputs_hidden": false
    }
   },
   "outputs": [],
   "source": [
    "import matplotlib.pyplot as plt\n",
    "import numpy as np\n",
    "import xarray as xr\n",
    "import pandas as pd\n",
    "from dask.distributed import Client, LocalCluster\n",
    "import dask.array as da\n",
    "import os\n",
    "import glob\n",
    "from metpy.units import units\n",
    "import math\n",
    "import metpy"
   ]
  },
  {
   "cell_type": "code",
   "execution_count": null,
   "id": "307a18bb-3d23-4aef-b1fd-5c1f9accb5fc",
   "metadata": {},
   "outputs": [],
   "source": [
    "import warnings\n",
    "warnings.filterwarnings('ignore')\n",
    "warnings.simplefilter('ignore')\n",
    "pd.options.mode.chained_assignment = None"
   ]
  },
  {
   "cell_type": "markdown",
   "id": "a25b1270-e278-4ec7-a92b-8b6d7870178e",
   "metadata": {
    "tags": []
   },
   "source": [
    "## Establish a dask client. This is a lot of data."
   ]
  },
  {
   "cell_type": "code",
   "execution_count": null,
   "id": "9c441ade-063a-4be5-82db-750c0da14994",
   "metadata": {
    "tags": []
   },
   "outputs": [],
   "source": [
    "Cluster = LocalCluster(n_workers = 8, threads_per_worker=4, memory_limit='30GB',  processes=True)\n",
    "#Cluster = LocalCluster()"
   ]
  },
  {
   "cell_type": "code",
   "execution_count": null,
   "id": "1e846fea-4aad-43a7-b629-33ac91c0f966",
   "metadata": {},
   "outputs": [],
   "source": [
    "client = Client(Cluster)\n",
    "client"
   ]
  },
  {
   "cell_type": "markdown",
   "id": "df786ff4-2b0a-46c8-9308-78f62c372f90",
   "metadata": {},
   "source": [
    "### The integral notebook of functions to run"
   ]
  },
  {
   "cell_type": "code",
   "execution_count": null,
   "id": "90eb2dbb-ee27-440e-ad4a-703f1d7e8593",
   "metadata": {},
   "outputs": [],
   "source": [
    "%run File_concat_mod_functions.ipynb"
   ]
  },
  {
   "cell_type": "markdown",
   "id": "74e51dc8-c398-4de4-bd6d-fe1bf129996e",
   "metadata": {},
   "source": [
    "the main function to run is:\n",
    "\n",
    "    return_concat(model, variable, prototype = None)\n",
    "\n",
    "Where the prototype is only needed for the UFS_S2S model choice. "
   ]
  },
  {
   "cell_type": "markdown",
   "id": "91827892-d737-4608-a2d8-677f14b46e21",
   "metadata": {
    "tags": []
   },
   "source": [
    "## UFS\n",
    "expected timesteps = 1460"
   ]
  },
  {
   "cell_type": "code",
   "execution_count": null,
   "id": "14cc9d6f-ffe9-48a1-807c-5df361409a16",
   "metadata": {},
   "outputs": [],
   "source": [
    "model = 'UFS_S2S'\n",
    "protoypes = [6,7,8]"
   ]
  },
  {
   "cell_type": "code",
   "execution_count": null,
   "id": "aa22fb6d-3065-44e8-8301-fb44d5776ef0",
   "metadata": {},
   "outputs": [],
   "source": [
    "var_list = get_model_var(model,'WIND')[0:2]\n",
    "var_list"
   ]
  },
  {
   "cell_type": "code",
   "execution_count": null,
   "id": "e91dc2db-307f-4596-9aa4-2096bb0fb32c",
   "metadata": {},
   "outputs": [],
   "source": [
    "#parent_dirs = glob.glob(os.path.join(f'{model}/{p}/', '*'))\n"
   ]
  },
  {
   "cell_type": "code",
   "execution_count": null,
   "id": "772ab234-f681-421d-bb2a-38d44a2c42c1",
   "metadata": {},
   "outputs": [],
   "source": [
    "%%time\n",
    "for p in protoypes:\n",
    "\n",
    "    parent_dirs = glob.glob(os.path.join(f'{model}/{p}/', '*'))\n",
    "\n",
    "    for i in parent_dirs:\n",
    "                \n",
    "        dir_maker(os.path.join(f'{output_dir}', f'{i}'))\n",
    "        \n",
    "        u_files = glob.glob(os.path.join(f'{i}/{var_list[0]}', f'*{var_list[0]}*'))\n",
    "        v_files = glob.glob(os.path.join(f'{i}/{var_list[1]}', f'*{var_list[1]}*'))\n",
    "    \n",
    "        u_file_cc = xr.open_mfdataset(u_files, combine = 'nested', concat_dim = 'valid_time', chunks = get_chunk(model))\n",
    "        v_file_cc = xr.open_mfdataset(v_files, combine = 'nested', concat_dim = 'valid_time', chunks = get_chunk(model))\n",
    "        \n",
    "        u_file_cc = u_file_cc.sortby('valid_time')\n",
    "        v_file_cc = v_file_cc.sortby('valid_time')\n",
    "    \n",
    "        w_speed_ufs = metpy.calc.wind_speed(u_file_cc.u10 * units.meter_per_second, v_file_cc.v10 * units.meter_per_second)\n",
    "        w_speed_ufs = w_speed_ufs.metpy.dequantify().to_dataset(name = 'wspeed')\n",
    "    \n",
    "        wind_direction_ufs = (270 - np.degrees(np.arctan2(v_file_cc.v10, u_file_cc.u10))) % 360\n",
    "        wind_direction_ufs = wind_direction_ufs.to_dataset(name = 'wdir')\n",
    "        \n",
    "        wind_direction_ufs = wind_direction_ufs.drop({'heightAboveGround'})\n",
    "        w_speed_ufs = w_speed_ufs.drop({'heightAboveGround'})\n",
    "        \n",
    "        resampler_UFS('wspeed', w_speed_ufs.chunk(get_chunk(model)), output_dir, i, p)\n",
    "        resampler_UFS('wdir', wind_direction_ufs.chunk(get_chunk(model)), output_dir, i, p)\n"
   ]
  },
  {
   "cell_type": "code",
   "execution_count": null,
   "id": "acc6859b-d51f-4488-8fd3-1a1e2a262c23",
   "metadata": {},
   "outputs": [],
   "source": []
  }
 ],
 "metadata": {
  "kernelspec": {
   "display_name": "Python 3 (ipykernel)",
   "language": "python",
   "name": "python3"
  },
  "language_info": {
   "codemirror_mode": {
    "name": "ipython",
    "version": 3
   },
   "file_extension": ".py",
   "mimetype": "text/x-python",
   "name": "python",
   "nbconvert_exporter": "python",
   "pygments_lexer": "ipython3",
   "version": "3.12.0"
  }
 },
 "nbformat": 4,
 "nbformat_minor": 5
}
