{
 "cells": [
  {
   "cell_type": "markdown",
   "id": "99429ee8-7187-492e-8eac-9f7e9975eebe",
   "metadata": {},
   "source": [
    "<a name=\"top\"></a>\n",
    "<div style=\"width:1000 px\">\n",
    "\n",
    "<div style=\"float:right; width:98 px; height:98px;\">\n",
    "<img src=\"https://cdn.miami.edu/_assets-common/images/system/um-logo-gray-bg.png\" alt=\"Miami Logo\" style=\"height: 98px;\">\n",
    "</div>\n",
    "\n",
    "<div style=\"float:right; width:98 px; height:98px;\">\n",
    "<img src=\"https://media.licdn.com/dms/image/C4E0BAQFlOZSAJABP4w/company-logo_200_200/0/1548285168598?e=2147483647&v=beta&t=g4jl8rEhB7HLJuNZhU6OkJWHW4cul_y9Kj_aoD7p0_Y\" alt=\"STI Logo\" style=\"height: 98px;\">\n",
    "</div>\n",
    "\n",
    "\n",
    "<h1>Data Download: UFS-S2S</h1>\n",
    "By: Kayla Besong, PhD\n",
    "    <br>\n",
    "Last Edited: 01/09/24\n",
    "<br>\n",
    "<br>    \n",
    "<br>\n",
    "This code is designed to download fire weather variables for the UFS S2S from AWS. A complementary notebook 'Data_Grab_Functions.ipynb' hosts the suite of functions tailored and necessary to run this script. This notebook was designed with intentention for inputs such as start and end date, variables to be changed depending on user need. Below it is tailored to fire weather metrics, if additional or changed variables are desired it is often necessary to find the level or surface your variable is on and align it properly with the input dictionary. Each function will generate a file tree and save the files to that file tree structure, with the only object returned being a list of unavailable files for your specified dates/hours/variables. Lastly, be patient.\n",
    "    \n",
    "<div style=\"clear:both\"></div>\n",
    "</div>\n",
    "\n",
    "<hr style=\"height:2px;\">"
   ]
  },
  {
   "cell_type": "markdown",
   "id": "d52113d7-40db-4d58-a67d-f99dc93f3d0a",
   "metadata": {},
   "source": [
    "### The integral notebook of functions to run"
   ]
  },
  {
   "cell_type": "code",
   "execution_count": 1,
   "id": "e2aee1e5-a93b-4541-a6d6-af8f67a65d2b",
   "metadata": {},
   "outputs": [],
   "source": [
    "%run ../../Universal_Functions/Data_Grab_Functions.ipynb"
   ]
  },
  {
   "cell_type": "markdown",
   "id": "c6cb369b-0856-49b0-a562-adb43064fef3",
   "metadata": {},
   "source": [
    "# UFS S2S"
   ]
  },
  {
   "cell_type": "markdown",
   "id": "3a64d184-9301-4a9f-9409-ac8ddc88878c",
   "metadata": {},
   "source": [
    "source: AWS\n",
    "<br>\n",
    "file type: grib2\n",
    "<br>\n",
    "dates available from: 2011-04-01 to Present initiated on the 1st and 15th of every month\n",
    "<br>\n",
    "analysis time steps: 0 to forecast hr 840 by 6 \n",
    "<br>\n",
    "domain: the domain is subset to 85N-0N, 180W-360W in this code to cover all of North America including Alaska and Hawai'i; global available \n",
    "<br>\n",
    "<br>\n",
    "Resources on UFS S2S:\n",
    "<br>\n",
    "https://registry.opendata.aws/noaa-ufs-s2s/\n",
    "<br>\n",
    "https://noaa-ufs-prototypes-pds.s3.amazonaws.com/index.html\n",
    "<br>\n",
    "https://vlab.noaa.gov/web/ufs-r2o/mrw-s2s\n",
    "<br>\n",
    "<br>\n",
    "Estimated time to run: 1-year, 4x daily, 11 vars = ~XXXXXX hours\n",
    "<br>\n",
    "<br>\n",
    "output:\n",
    "<br>\n",
    "1. A list of all missing or incomplete files\n",
    "2. A file tree structured UFS_S2S/prototypenum/variable/ufs_prototypenum_variable_initYEARMONDAY_leadtime.nc\n",
    "<br>\n",
    "<br>\n",
    "NOTE: to read grib2 off of AWS, this code will create an additional directory 'temp_ufs_files/files' to store temporary files that can manually be deleted later. Controlling where the files are cached has proven difficult. This method may work on your machine, it may not depending on what is set up. Within the ufs_s2s_grabber function in the Data_Grab_Functions.ipynb there are 5 lines commented out that delete the cached grib files as you go. If you find that all the cached files are causing a problem, you can uncomment these lines to automatically delete them. It is advised to print 'file' before doing so to become aware of where the cached files are being stored or generated first. This method uses shutil.rmtree() and could delete things you do not want deleted. "
   ]
  },
  {
   "cell_type": "code",
   "execution_count": null,
   "id": "9efd640a-ef42-4399-88c7-593149603960",
   "metadata": {},
   "outputs": [],
   "source": [
    "### Variables are set up in a dictionary format as not all variables are stored with the same coordinates.\n",
    "### The keys represent basically whatever you want. Each variable of interest is stored in a list of lists as the 'values' of the dictionary.\n",
    "### The additional list is the 'filter_by_keys' input for each of the variables required by xarray-cfgrib to obtain the variables of interest.\n",
    "### Each variable at a minimum requires 'typeOfLevel' while others require more such as below. If you add/change variables, some investigation\n",
    "### as to which filters are needed may be required. Presently, you cannot provide multiple choices per key-value pair. For example, for the first\n",
    "### two they both are on the typeOfLevel: 'heightAboveGround' but require seperate 'level' values...level: [2, 10] will return an empty xr.dataset\n",
    "### due to xarray-cfgrib not \"liking\" the different 'coordinates'. Best of luck! \n",
    "\n",
    "variables = {'heightAboveGround2': [['t2m', 'r2'], {'typeOfLevel': 'heightAboveGround', 'level': 2}],\n",
    "             'heightAboveGround10': [['u10', 'v10'], {'typeOfLevel': 'heightAboveGround', 'level': 10}],\n",
    "             'surface': [['gust', 'hpbl', 'cape', 'prate', 'lsm', 'hindex'], {'typeOfLevel': 'surface', 'stepType': 'instant'}],\n",
    "             'depthBelowLandLayer': [['soilw'], {'typeOfLevel': 'depthBelowLandLayer'}]}\n",
    "             "
   ]
  },
  {
   "cell_type": "code",
   "execution_count": null,
   "id": "278c2af2-eaf0-403f-a8a1-942de343931d",
   "metadata": {
    "tags": []
   },
   "outputs": [],
   "source": [
    "### inputs to the hrrr_grabber function are established here. \n",
    "### start_date, end_date, and output_dir = strings\n",
    "### to_lead_time = integer --> is to the lead time you want from 0 to 840 by 6\n",
    "### domain == array of integers --> [N, S, E, W] presently set up for NA domain\n",
    "\n",
    "start_date = '2014-03-15'\n",
    "end_date = '2018-04-01'\n",
    "to_lead_time = 840\n",
    "output_dir = 'UFS_S2S'\n",
    "domain = [85, 0, 180, 360]\n"
   ]
  },
  {
   "cell_type": "code",
   "execution_count": null,
   "id": "f0232afa-cccb-4f3e-bcbb-059b0fd9d680",
   "metadata": {
    "scrolled": true,
    "tags": []
   },
   "outputs": [],
   "source": [
    "%%time\n",
    "\n",
    "### Calling the UFS grabber function to download all data of interest. The only item that is returned is a \n",
    "### list of files that does not exists (is missing or otherwise) for one to be aware of and double check on. \n",
    "\n",
    "non_exist_ufs = ufs_s2s_grabber(start_date, end_date, to_lead_time, variables, output_dir, domain, 6, '/raid60B/s2sfire/NOAA_S2S/temp_ufs_files/')"
   ]
  },
  {
   "cell_type": "code",
   "execution_count": null,
   "id": "11c4c9ed-d2f4-420b-bc59-0aed823c56e9",
   "metadata": {},
   "outputs": [],
   "source": []
  }
 ],
 "metadata": {
  "kernelspec": {
   "display_name": "Python 3 (ipykernel)",
   "language": "python",
   "name": "python3"
  },
  "language_info": {
   "codemirror_mode": {
    "name": "ipython",
    "version": 3
   },
   "file_extension": ".py",
   "mimetype": "text/x-python",
   "name": "python",
   "nbconvert_exporter": "python",
   "pygments_lexer": "ipython3",
   "version": "3.12.0"
  }
 },
 "nbformat": 4,
 "nbformat_minor": 5
}
