{
 "cells": [
  {
   "cell_type": "markdown",
   "id": "9a8662b6-1653-4667-b8c3-6a34ec89d44e",
   "metadata": {},
   "source": [
    "<a name=\"top\"></a>\n",
    "<div style=\"width:1000 px\">\n",
    "\n",
    "<div style=\"float:right; width:98 px; height:98px;\">\n",
    "<img src=\"https://cdn.miami.edu/_assets-common/images/system/um-logo-gray-bg.png\" alt=\"Miami Logo\" style=\"height: 98px;\">\n",
    "</div>\n",
    "\n",
    "<div style=\"float:right; width:98 px; height:98px;\">\n",
    "<img src=\"https://media.licdn.com/dms/image/C4E0BAQFlOZSAJABP4w/company-logo_200_200/0/1548285168598?e=2147483647&v=beta&t=g4jl8rEhB7HLJuNZhU6OkJWHW4cul_y9Kj_aoD7p0_Y\" alt=\"STI Logo\" style=\"height: 98px;\">\n",
    "</div>\n",
    "\n",
    "\n",
    "<h1>Clean Data and Export to Absolute and 24H-Min, Max, and Avg netcdf files. .</h1>\n",
    "By: Kayla Besong, PhD\n",
    "    <br>\n",
    "Last Edited: 11/16/23\n",
    "<br>\n",
    "<br>    \n",
    "<br>\n",
    "\n",
    "Downloaded files are cleaned and organized by prototype, variable, and year. The absolute (all time steps) 24H-Min, Max, and Avg are each exported by year, variable individually. If only min or absolute are desired, they will need commented out in the function suite notebook. Example of each output file saved to local directory for one variable 't2m':\n",
    "    \n",
    "t2m_UFS_S2S_FORECAST_Abs_2020.nc  \n",
    "\n",
    "t2mMAX_UFS_S2S_FORECAST_Daily_2020.nc \n",
    "\n",
    "t2mMIN_UFS_S2S_FORECAST_Daily_2020.nc \n",
    "\n",
    "t2mAVG_UFS_S2S_FORECAST_Daily_2020.nc \n",
    "\n",
    "\n",
    "<div style=\"clear:both\"></div>\n",
    "</div>\n",
    "\n",
    "<hr style=\"height:2px;\">"
   ]
  },
  {
   "cell_type": "markdown",
   "id": "262c1627-38f4-4e1e-aab9-4cb234af55fd",
   "metadata": {
    "tags": []
   },
   "source": [
    "## Import needed libraries, etc."
   ]
  },
  {
   "cell_type": "code",
   "execution_count": null,
   "id": "c35dd037-c86b-4d25-a07e-c3a3bc023d77",
   "metadata": {
    "collapsed": false,
    "jupyter": {
     "outputs_hidden": false
    }
   },
   "outputs": [],
   "source": [
    "import matplotlib.pyplot as plt\n",
    "import numpy as np\n",
    "import xarray as xr\n",
    "import pandas as pd\n",
    "from dask.distributed import Client, LocalCluster\n",
    "import dask.array as da\n",
    "import os\n",
    "import glob"
   ]
  },
  {
   "cell_type": "code",
   "execution_count": null,
   "id": "307a18bb-3d23-4aef-b1fd-5c1f9accb5fc",
   "metadata": {},
   "outputs": [],
   "source": [
    "import warnings\n",
    "warnings.filterwarnings('ignore')\n",
    "warnings.simplefilter('ignore')\n",
    "pd.options.mode.chained_assignment = None"
   ]
  },
  {
   "cell_type": "markdown",
   "id": "a25b1270-e278-4ec7-a92b-8b6d7870178e",
   "metadata": {
    "tags": []
   },
   "source": [
    "## Establish a dask client.\n",
    "\n",
    "Figure out the appropriate workers, threads, and memory limit for your system."
   ]
  },
  {
   "cell_type": "code",
   "execution_count": null,
   "id": "9c441ade-063a-4be5-82db-750c0da14994",
   "metadata": {
    "tags": []
   },
   "outputs": [],
   "source": [
    "Cluster = LocalCluster(n_workers = 8, threads_per_worker=4, memory_limit='30GB',  processes=True)\n",
    "client = Client(Cluster)\n",
    "client"
   ]
  },
  {
   "cell_type": "markdown",
   "id": "df786ff4-2b0a-46c8-9308-78f62c372f90",
   "metadata": {},
   "source": [
    "# The integral notebook of functions to run"
   ]
  },
  {
   "cell_type": "code",
   "execution_count": null,
   "id": "90eb2dbb-ee27-440e-ad4a-703f1d7e8593",
   "metadata": {},
   "outputs": [],
   "source": [
    "%run ../../Universal_Functions/File_concat_mod_functions.ipynb"
   ]
  },
  {
   "cell_type": "markdown",
   "id": "fd375697-4ea6-4cf3-9f8d-f4df2120171f",
   "metadata": {},
   "source": [
    "## These are the available options the functions are designed for\n",
    "\n",
    "Not all variables will be available from all models but most are. "
   ]
  },
  {
   "cell_type": "code",
   "execution_count": null,
   "id": "65cc223d-d4a6-4745-9977-cf1f5fca2843",
   "metadata": {},
   "outputs": [],
   "source": [
    "variable_options = ['PBL', 'CAPE', 'SOILM', 'WIND', 'PRECIP', 'TEMP', 'RH']               # this references a dictionary in the function suite that will grab the correct variable name per model"
   ]
  },
  {
   "cell_type": "code",
   "execution_count": null,
   "id": "e983c7f0-3646-447d-af05-6644cc96c24c",
   "metadata": {},
   "outputs": [],
   "source": [
    "output_dir = 'database_files'                                                             # choose wisely, this will be referenced significantly throughout the code repository "
   ]
  },
  {
   "cell_type": "markdown",
   "id": "14ad7cd2-5737-48e7-89f2-61a7114dd4b7",
   "metadata": {
    "tags": []
   },
   "source": [
    "# UFS\n",
    "expected timesteps = 1460"
   ]
  },
  {
   "cell_type": "code",
   "execution_count": null,
   "id": "30692ea5-c5b5-4411-b07c-102489791303",
   "metadata": {},
   "outputs": [],
   "source": [
    "model = 'UFS_S2S'\n",
    "p = 6              # select prototype "
   ]
  },
  {
   "cell_type": "code",
   "execution_count": null,
   "id": "492bae95-964d-4577-9d12-385707a42d72",
   "metadata": {},
   "outputs": [],
   "source": [
    "%%time\n",
    "\n",
    "for v in variable_options:\n",
    "    var = get_model_var(model, v)\n",
    "    grab_raw_files_and_resampler_UFS(var, output_dir, p)        # call the function that concats, cleans, and generates the 4 output files per year per variable "
   ]
  },
  {
   "cell_type": "code",
   "execution_count": null,
   "id": "4626d4d7-b493-4985-829c-c05efebc9189",
   "metadata": {},
   "outputs": [],
   "source": []
  }
 ],
 "metadata": {
  "kernelspec": {
   "display_name": "Python 3 (ipykernel)",
   "language": "python",
   "name": "python3"
  },
  "language_info": {
   "codemirror_mode": {
    "name": "ipython",
    "version": 3
   },
   "file_extension": ".py",
   "mimetype": "text/x-python",
   "name": "python",
   "nbconvert_exporter": "python",
   "pygments_lexer": "ipython3",
   "version": "3.12.0"
  }
 },
 "nbformat": 4,
 "nbformat_minor": 5
}
